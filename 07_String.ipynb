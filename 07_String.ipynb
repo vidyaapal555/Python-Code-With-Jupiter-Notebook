{
 "cells": [
  {
   "cell_type": "markdown",
   "id": "2df53e27-5b9b-46af-9317-ed5f4e7bbe84",
   "metadata": {},
   "source": [
    "### Strings in python"
   ]
  },
  {
   "cell_type": "markdown",
   "id": "0288e9db-25ad-4415-a2fc-d4c9705face5",
   "metadata": {},
   "source": [
    "### Basic stuff"
   ]
  },
  {
   "cell_type": "code",
   "execution_count": 1,
   "id": "4689c0cb-4f56-468f-9526-1b5085404672",
   "metadata": {},
   "outputs": [
    {
     "name": "stdout",
     "output_type": "stream",
     "text": [
      "True\n",
      "False\n"
     ]
    }
   ],
   "source": [
    "#Example 1\n",
    "str1 = \"This is single line string\"\n",
    "str2 = \"\"\"\n",
    "This is a multiline string\n",
    "you can write more in it\n",
    "\"\"\"\n",
    "#You can use membership operator in order to check any string present inside the main string\n",
    "print(\"multiline\" in str2)\n",
    "\n",
    "#Example 2\n",
    "str1 = \"This is single line string\"\n",
    "str2 = \"Hello\"\n",
    "print(\"multiline\" in str2)"
   ]
  },
  {
   "cell_type": "markdown",
   "id": "4002b565-94d1-49a3-a6a9-3894b87f5768",
   "metadata": {},
   "source": [
    "### Operations on string"
   ]
  },
  {
   "cell_type": "code",
   "execution_count": 2,
   "id": "bcc34b5e-13cb-43ec-88cb-f63d856ee4ed",
   "metadata": {},
   "outputs": [
    {
     "name": "stdout",
     "output_type": "stream",
     "text": [
      "24\n"
     ]
    }
   ],
   "source": [
    "#Question: finding length of string \n",
    "str3 = \"This is a example string\"\n",
    "print(len(str3))"
   ]
  },
  {
   "cell_type": "code",
   "execution_count": 3,
   "id": "9cd5360c-770c-48cf-aa74-a12ca69b62f0",
   "metadata": {},
   "outputs": [
    {
     "name": "stdout",
     "output_type": "stream",
     "text": [
      "This string is only for testing purpose\n",
      "This string is only for testing purpose\n",
      "This string is only for testing purpose\n",
      "esoprup gnitset rof ylno si gnirts sihT\n"
     ]
    }
   ],
   "source": [
    "#Strings are like a array which stores the character starting from index 0\n",
    "#accessing the sub strings using array like box notation\n",
    "str4 = \"This string is only for testing purpose\"\n",
    "\n",
    "print(str4[0:len(str4)]) #by default 0 is in first and second is string's entire length if you don't put anything\n",
    "#below and above are same\n",
    "print(str4[0:])\n",
    "#below and above are same\n",
    "print(str4[:len(str4)])\n",
    "print(str4[::-1]) #putting negative index(slice step) at third place will start to get string in account from end and first two position are considered as default here which is nothing but 0, len(str)"
   ]
  },
  {
   "cell_type": "code",
   "execution_count": 4,
   "id": "4019265b-eea1-4172-b071-976c16450052",
   "metadata": {},
   "outputs": [
    {
     "name": "stdout",
     "output_type": "stream",
     "text": [
      "This string is for printing purpose"
     ]
    }
   ],
   "source": [
    "#Printing string using for loop\n",
    "\n",
    "str5 = \"This string is for printing purpose\"\n",
    "for i in str5:\n",
    "    print(i,end=\"\") # here we use end=\"\" so that the string will remain at one line "
   ]
  },
  {
   "cell_type": "markdown",
   "id": "5c70bfac-b1b2-4005-a8de-a8b3d0bf07e2",
   "metadata": {},
   "source": [
    "### Formatting in strings"
   ]
  },
  {
   "cell_type": "code",
   "execution_count": 5,
   "id": "d46cdf13-5164-49c0-84d3-56ce8d561d1b",
   "metadata": {},
   "outputs": [
    {
     "name": "stdout",
     "output_type": "stream",
     "text": [
      "Jimmy put plates on table, before it's too late\n",
      "put plates on table Jimmy, before it's too late\n",
      "Jimmy put plates on table, before it's too late\n"
     ]
    }
   ],
   "source": [
    "#step1:create variables to put inside the string\n",
    "task = \"put plates on table\"\n",
    "name = \"Jimmy\"\n",
    "#step2:Make a statement\n",
    "statement = \"{} {}, before it's too late\"\n",
    "print(statement.format(name,task))\n",
    "\n",
    "#sometime we don't know the position of variables\n",
    "statement2 = \"{1} {0}, before it's too late\"\n",
    "print(statement2.format(name,task))\n",
    "\n",
    "#Using f strings\n",
    "print(f\"{name} {task}, before it's too late\")"
   ]
  },
  {
   "cell_type": "markdown",
   "id": "4e770dab-32e1-4fc4-ba7c-f7c422486115",
   "metadata": {},
   "source": [
    "### String formating methods"
   ]
  },
  {
   "cell_type": "code",
   "execution_count": 6,
   "id": "fa314345-2ce5-452f-b2a0-f85b0ae938dc",
   "metadata": {},
   "outputs": [
    {
     "name": "stdout",
     "output_type": "stream",
     "text": [
      "   This String Is For Formatting Purpose    \n",
      "   this string is for formatting purpose    \n",
      "   THIS STRING IS FOR FORMATTING PURPOSE    \n",
      "   this string is for formatting purpose    \n",
      "   THIS STRING IS FOR FORMaTTING PURPOSE    \n",
      "   this string is for formAtting purpose    \n",
      "this string is for formAtting purpose\n",
      "this string is for formAtting purpose    \n"
     ]
    }
   ],
   "source": [
    "str6 = \"   this string is for formAtting purpose    \"\n",
    "print(str6.title())\n",
    "print(str6.capitalize())\n",
    "print(str6.upper())\n",
    "print(str6.lower())\n",
    "print(str6.swapcase())\n",
    "str7 = \"   this string is for formatting purpose    ssssss\"\n",
    "print(str6.rstrip(\"s\"))\n",
    "print(str6.strip())\n",
    "print(str6.lstrip())"
   ]
  },
  {
   "cell_type": "markdown",
   "id": "6d2ec2ed-2769-436f-a83d-e4de20d409b3",
   "metadata": {},
   "source": [
    "### String adjusting methods"
   ]
  },
  {
   "cell_type": "code",
   "execution_count": 7,
   "id": "0ac1b137-d494-4521-8ef1-463c402deecb",
   "metadata": {},
   "outputs": [
    {
     "name": "stdout",
     "output_type": "stream",
     "text": [
      "iiiiihello\n",
      "helloiiiii\n",
      "iiihelloiii\n"
     ]
    }
   ],
   "source": [
    "str8 = \"hello\"\n",
    "print(str8.rjust(10,\"i\"))\n",
    "print(str8.ljust(10,\"i\"))\n",
    "print(str8.center(11,\"i\"))"
   ]
  },
  {
   "cell_type": "markdown",
   "id": "5f306da7-01f2-4489-8cd2-6498f17e40ee",
   "metadata": {},
   "source": [
    "### String checking methods"
   ]
  },
  {
   "cell_type": "code",
   "execution_count": 8,
   "id": "d43a511d-960b-4721-8611-a103be30fd6a",
   "metadata": {},
   "outputs": [
    {
     "name": "stdout",
     "output_type": "stream",
     "text": [
      "True\n",
      "2\n",
      "True\n",
      "2\n",
      "True\n",
      "True\n",
      "True\n",
      "False\n",
      "this\n"
     ]
    }
   ],
   "source": [
    "str9 = \"This is sample string\"\n",
    "\n",
    "print(str9.endswith(\"string\"))\n",
    "# print(str9.index(\"lol\")) #this will give error if cannot find the string index\n",
    "print(str9.find(\"is\")) #This will return -1 if cannot find the string index\n",
    "print(str9.startswith(\"This\"))\n",
    "print(str9.count(\"is\"))\n",
    "str10 = \"1\"\n",
    "print(str10.isalnum())\n",
    "str11 = \"this\"\n",
    "print(str11.isalpha())\n",
    "print(str11.islower())\n",
    "print(str11.isupper())\n",
    "print(str11)"
   ]
  },
  {
   "cell_type": "markdown",
   "id": "4a9b8edb-7f25-4f78-b3ad-51e4d6ba9ecb",
   "metadata": {},
   "source": [
    "### Extra usefull methods"
   ]
  },
  {
   "cell_type": "code",
   "execution_count": 9,
   "id": "0e85d165-be68-4aed-9a3a-ab59e60051ef",
   "metadata": {},
   "outputs": [
    {
     "name": "stdout",
     "output_type": "stream",
     "text": [
      "['this', 'is', 'testing', 'of', 'string']\n",
      "this is testing string\n"
     ]
    }
   ],
   "source": [
    "str12 = \"this is testing of string\"\n",
    "print(str12.split(\" \")) #will make the list of string with \" \" argument as a separator\n",
    "print(\" \".join([\"this\", \"is\", \"testing\",\"string\"])) # this will join the string with provided string in between"
   ]
  }
 ],
 "metadata": {
  "kernelspec": {
   "display_name": "Python 3 (ipykernel)",
   "language": "python",
   "name": "python3"
  },
  "language_info": {
   "codemirror_mode": {
    "name": "ipython",
    "version": 3
   },
   "file_extension": ".py",
   "mimetype": "text/x-python",
   "name": "python",
   "nbconvert_exporter": "python",
   "pygments_lexer": "ipython3",
   "version": "3.12.7"
  }
 },
 "nbformat": 4,
 "nbformat_minor": 5
}
