{
 "cells": [
  {
   "cell_type": "markdown",
   "id": "23dbf999-0bfb-420f-ac74-abc63684c00f",
   "metadata": {},
   "source": [
    "### Funtions"
   ]
  },
  {
   "cell_type": "markdown",
   "id": "ef1cf7a4-06cb-48fe-9bbc-ec14d3967b0c",
   "metadata": {},
   "source": [
    "### basic"
   ]
  },
  {
   "cell_type": "code",
   "execution_count": 1,
   "id": "ea780007-790d-467e-a323-fe2772f77c09",
   "metadata": {},
   "outputs": [
    {
     "name": "stdout",
     "output_type": "stream",
     "text": [
      "It's working\n"
     ]
    }
   ],
   "source": [
    "# define a function\n",
    "def its_working(input): \n",
    "    if(input):\n",
    "        print(\"It's working\")\n",
    "    else:\n",
    "        print(\"It's not working\")\n",
    "\n",
    "#call the function using-> ()\n",
    "its_working(True)"
   ]
  },
  {
   "cell_type": "markdown",
   "id": "18d51816-8c0e-4a46-a643-5fb4203c576d",
   "metadata": {},
   "source": [
    "### Function arguments"
   ]
  },
  {
   "cell_type": "code",
   "execution_count": 2,
   "id": "6339a789-4c54-4d09-b9b9-a4b82ae2104b",
   "metadata": {},
   "outputs": [
    {
     "name": "stdout",
     "output_type": "stream",
     "text": [
      "jake joseph \n",
      "jake joseph\n",
      "jake joseph\n",
      "Hello, jake joseph paul\n",
      "jake joseph paul "
     ]
    }
   ],
   "source": [
    "#DEFAULT ARGUMENTS\n",
    "\n",
    "#if we did not provide the default values then the arguments becomes required\n",
    "def print_full_name(fname=\"ana\", mname= \"de\",lname=\"armas\"): \n",
    "    print(f\"hello, {fname} {mname} {lname}\")\n",
    "\n",
    "# print_full_name(\"jake\",\"joseph\",\"paul\")\n",
    "# print_full_name(\"jake\")\n",
    "\n",
    "#KEYWORD ARGUMENTS\n",
    "\n",
    "# print_full_name(lname = \"paul\",fname=\"jake\")\n",
    "# print_full_name(\"paul\",\"jake\")\n",
    "\n",
    "#VARIABLE-LENGTH-ARGUMENTS\n",
    "\n",
    "#1:ARBITRARY ARGUMENTS\n",
    "def print_name(*name):\n",
    "#     print(name[0],name[1],name[2]) # error prone\n",
    "    statement = \"\"\n",
    "    for i in name:\n",
    "        statement+=i\n",
    "        statement+=\" \"\n",
    "    print(statement)\n",
    "    print(*name[:3]) #using unpacking operator\n",
    "    print(\" \".join(name))\n",
    "print_name(\"jake\",\"joseph\" )\n",
    "\n",
    "#2:KEYWORD ARBITRARY ARGUMENT\n",
    "\n",
    "def print_name2(**name):\n",
    "    print(\"Hello,\", name.get(\"fname\", \"Unknown\"), name.get(\"mname\", \"\"), name.get(\"lname\", \"Unknown\"))\n",
    "#     print(*name) #here we are unpacking the dictionary\n",
    "    for i in name.values():\n",
    "        print(i,end=\" \")\n",
    "print_name2(fname=\"jake\",mname=\"joseph\",lname=\"paul\")\n",
    "\n",
    "#if we want to put both *args and **kwargs first should be *args"
   ]
  },
  {
   "cell_type": "markdown",
   "id": "e78db32f-88fb-43b8-ae19-4e29888e581a",
   "metadata": {},
   "source": [
    "### Recursion in python"
   ]
  },
  {
   "cell_type": "code",
   "execution_count": 3,
   "id": "f70a07fe-6406-402f-a59d-7e07695131c8",
   "metadata": {},
   "outputs": [
    {
     "name": "stdout",
     "output_type": "stream",
     "text": [
      "6\n"
     ]
    }
   ],
   "source": [
    "#Make the function to find factorial of number\n",
    "def fact_num(num):\n",
    "    if(num ==1 or num ==0):\n",
    "        return num\n",
    "    else:\n",
    "        return num * fact_num(num-1)\n",
    "\n",
    "print(fact_num(3))"
   ]
  }
 ],
 "metadata": {
  "kernelspec": {
   "display_name": "Python 3 (ipykernel)",
   "language": "python",
   "name": "python3"
  },
  "language_info": {
   "codemirror_mode": {
    "name": "ipython",
    "version": 3
   },
   "file_extension": ".py",
   "mimetype": "text/x-python",
   "name": "python",
   "nbconvert_exporter": "python",
   "pygments_lexer": "ipython3",
   "version": "3.12.7"
  }
 },
 "nbformat": 4,
 "nbformat_minor": 5
}
