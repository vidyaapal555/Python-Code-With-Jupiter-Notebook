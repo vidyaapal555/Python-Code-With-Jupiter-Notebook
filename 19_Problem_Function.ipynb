{
 "cells": [
  {
   "cell_type": "markdown",
   "id": "601cd0a9-191d-4564-a44d-ee3785ffdd60",
   "metadata": {},
   "source": [
    "### Python Functions - Practice Questions"
   ]
  },
  {
   "cell_type": "markdown",
   "id": "3c4d93b8-ee7a-4f3f-ae7d-8385e8f6547f",
   "metadata": {},
   "source": [
    "### 1. Write a function greet(name) that takes a name as input and prints \"Hello, {name}!\"."
   ]
  },
  {
   "cell_type": "code",
   "execution_count": 1,
   "id": "6c536e74-0623-4880-885e-4b24f0207670",
   "metadata": {},
   "outputs": [
    {
     "name": "stdout",
     "output_type": "stream",
     "text": [
      "Hello, Alice!\n"
     ]
    }
   ],
   "source": [
    "def greet(name):\n",
    "    print(f\"Hello, {name}!\")  \n",
    "greet(\"Alice\") "
   ]
  },
  {
   "cell_type": "markdown",
   "id": "9f2b8b0d-54a3-412c-adfe-0cd4d08f5f1b",
   "metadata": {},
   "source": [
    "### 2. Write a function add(a, b) that returns the sum of two numbers."
   ]
  },
  {
   "cell_type": "code",
   "execution_count": 2,
   "id": "53ca26cf-f9e8-4640-9037-0266b8e3ca99",
   "metadata": {},
   "outputs": [
    {
     "name": "stdout",
     "output_type": "stream",
     "text": [
      "8\n"
     ]
    }
   ],
   "source": [
    "def add(a, b):\n",
    "    return a + b  \n",
    "result = add(3, 5) \n",
    "print(result) "
   ]
  },
  {
   "cell_type": "markdown",
   "id": "56256428-7fca-40ac-8e54-3bcc290b6312",
   "metadata": {},
   "source": [
    "### 3. Write a function is_even(n) that returns True if n is even, otherwise False."
   ]
  },
  {
   "cell_type": "code",
   "execution_count": 3,
   "id": "76aa128f-6e9b-43b8-bcc4-b43f1d0af656",
   "metadata": {},
   "outputs": [
    {
     "name": "stdout",
     "output_type": "stream",
     "text": [
      "True\n",
      "False\n"
     ]
    }
   ],
   "source": [
    "def is_even(n):\n",
    "    return n % 2 == 0  \n",
    "result = is_even(4)  \n",
    "print(result) \n",
    "\n",
    "result2 = is_even(7) \n",
    "print(result2)  "
   ]
  },
  {
   "cell_type": "markdown",
   "id": "c3d20916-6850-453f-a15b-72f6e3630651",
   "metadata": {},
   "source": [
    "### 4. Write a function factorial(n) that returns the factorial of n."
   ]
  },
  {
   "cell_type": "code",
   "execution_count": 4,
   "id": "db7d0823-9f83-4975-b6c4-e575b11bcc69",
   "metadata": {},
   "outputs": [
    {
     "name": "stdout",
     "output_type": "stream",
     "text": [
      "120\n"
     ]
    }
   ],
   "source": [
    "def factorial(n):\n",
    "    result = 1\n",
    "    for i in range(1, n + 1):\n",
    "        result *= i  \n",
    "    return result  \n",
    "result = factorial(5)  \n",
    "print(result)  "
   ]
  },
  {
   "cell_type": "markdown",
   "id": "cf37067e-d228-4428-88ea-5f9d6bbdac88",
   "metadata": {},
   "source": [
    "### 5. Write a function reverse_string(s) that returns the reverse of the given string."
   ]
  },
  {
   "cell_type": "code",
   "execution_count": 5,
   "id": "ae19b5ba-6754-4983-943c-21b6062bbff0",
   "metadata": {},
   "outputs": [
    {
     "name": "stdout",
     "output_type": "stream",
     "text": [
      "olleh\n"
     ]
    }
   ],
   "source": [
    "def reverse_string(s):\n",
    "    return s[::-1] \n",
    "result = reverse_string(\"hello\")  \n",
    "print(result) "
   ]
  },
  {
   "cell_type": "markdown",
   "id": "e9e966fb-1a8f-426b-9d21-62106b6d78b3",
   "metadata": {},
   "source": [
    "### 6. Write a function count_vowels(s) that counts and returns the number of vowels in a string."
   ]
  },
  {
   "cell_type": "code",
   "execution_count": 6,
   "id": "0ad72086-c186-4445-a82b-39affca25597",
   "metadata": {},
   "outputs": [
    {
     "name": "stdout",
     "output_type": "stream",
     "text": [
      "3\n"
     ]
    }
   ],
   "source": [
    "def count_vowels(s):\n",
    "    vowels = \"aeiouAEIOU\"  \n",
    "    count = 0 \n",
    "    for char in s:\n",
    "        if char in vowels:  \n",
    "            count += 1  \n",
    "    return count  \n",
    "result = count_vowels(\"hello world\")  \n",
    "print(result)  "
   ]
  },
  {
   "cell_type": "markdown",
   "id": "d07cdb05-f3e9-45d6-aed2-09a2aae9ae07",
   "metadata": {},
   "source": [
    "### 7. Write a function find_max(lst) that returns the maximum element from a list."
   ]
  },
  {
   "cell_type": "code",
   "execution_count": 7,
   "id": "cf47633a-a935-463c-9b23-89224138cb1f",
   "metadata": {},
   "outputs": [
    {
     "name": "stdout",
     "output_type": "stream",
     "text": [
      "8\n"
     ]
    }
   ],
   "source": [
    "def find_max(lst):\n",
    "    max_value = lst[0]\n",
    "    for num in lst:\n",
    "        if num > max_value:  \n",
    "            max_value = num  \n",
    "    return max_value \n",
    "result = find_max([3, 5, 7, 2, 8, 1]) \n",
    "print(result) "
   ]
  },
  {
   "cell_type": "markdown",
   "id": "ad01e461-c482-4960-b54e-0e87a6602190",
   "metadata": {},
   "source": [
    "### 8. Write a function fibonacci(n) that returns the first n numbers in the Fibonacci sequence as a list."
   ]
  },
  {
   "cell_type": "code",
   "execution_count": 8,
   "id": "c0fbe575-ef39-4aea-aec3-8e1d8d4a1614",
   "metadata": {},
   "outputs": [
    {
     "name": "stdout",
     "output_type": "stream",
     "text": [
      "[0, 1, 1, 2, 3, 5, 8, 13, 21, 34]\n"
     ]
    }
   ],
   "source": [
    "def fibonacci(n):\n",
    "    fib_sequence = []\n",
    "    a, b = 0, 1\n",
    "    for _ in range(n):\n",
    "        fib_sequence.append(a)  \n",
    "        a, b = b, a + b  \n",
    "    return fib_sequence  \n",
    "result = fibonacci(10)  \n",
    "print(result)  "
   ]
  },
  {
   "cell_type": "markdown",
   "id": "ec921709-293e-4720-b142-c6ff2830a1c8",
   "metadata": {},
   "source": [
    "### 9. Write a function is_palindrome(s) that checks if a string is a palindrome (reads the same forward and backward)."
   ]
  },
  {
   "cell_type": "code",
   "execution_count": 9,
   "id": "61a9e190-d70f-431e-81a2-275297141894",
   "metadata": {},
   "outputs": [
    {
     "name": "stdout",
     "output_type": "stream",
     "text": [
      "True\n",
      "False\n",
      "True\n"
     ]
    }
   ],
   "source": [
    "def is_palindrome(s):\n",
    "    s = s.replace(\" \", \"\").lower()\n",
    "    return s == s[::-1]  \n",
    "result = is_palindrome(\"racecar\") \n",
    "print(result)  \n",
    "result2 = is_palindrome(\"hello\")  \n",
    "print(result2)  \n",
    "result3 = is_palindrome(\"A man a plan a canal Panama\")  \n",
    "print(result3)  "
   ]
  },
  {
   "cell_type": "markdown",
   "id": "428fc5fa-6c3c-4663-b810-2bff6a6ddce2",
   "metadata": {},
   "source": [
    "### 10. Write a function calculate_area(shape, value1, value2=0) that calculates the area of a shape:\n",
    "If shape is \"circle\", return 3.14 * value1 * value1.\n",
    "\n",
    "If shape is \"rectangle\", return value1 * value2.\n",
    "\n",
    "If shape is \"square\", return value1 * value1."
   ]
  },
  {
   "cell_type": "code",
   "execution_count": 10,
   "id": "ac44ce1f-09d6-456a-97b6-0fa34f4fa22f",
   "metadata": {},
   "outputs": [
    {
     "name": "stdout",
     "output_type": "stream",
     "text": [
      "Circle Area: 78.5\n",
      "Rectangle Area: 50\n",
      "Square Area: 16\n"
     ]
    }
   ],
   "source": [
    "def calculate_area(shape, value1, value2=0):\n",
    "    if shape.lower() == \"circle\":\n",
    "        return 3.14 * value1 * value1  # Area of circle: π * r²\n",
    "    elif shape.lower() == \"rectangle\":\n",
    "        return value1 * value2  # Area of rectangle: length * width\n",
    "    elif shape.lower() == \"square\":\n",
    "        return value1 * value1  # Area of square: side * side\n",
    "    else:\n",
    "        return \"Invalid shape\"  # In case of an unsupported shape\n",
    "circle_area = calculate_area(\"circle\", 5)  \n",
    "print(f\"Circle Area: {circle_area}\")  \n",
    "\n",
    "rectangle_area = calculate_area(\"rectangle\", 5, 10)  \n",
    "print(f\"Rectangle Area: {rectangle_area}\")  \n",
    "\n",
    "square_area = calculate_area(\"square\", 4)  \n",
    "print(f\"Square Area: {square_area}\") "
   ]
  },
  {
   "cell_type": "markdown",
   "id": "16cc45bb-0cad-4ada-8af1-5f5728c54ad4",
   "metadata": {},
   "source": [
    "### 11. Write a function word_count(sentence) that returns a dictionary where keys are words, and values are their frequencies."
   ]
  },
  {
   "cell_type": "code",
   "execution_count": 11,
   "id": "2f67ab25-8697-4fe7-a6b0-f66413098da6",
   "metadata": {},
   "outputs": [
    {
     "name": "stdout",
     "output_type": "stream",
     "text": [
      "{'this': 2, 'is': 2, 'a': 2, 'test': 2, 'sentence': 1, 'and': 1, 'just': 1}\n"
     ]
    }
   ],
   "source": [
    "def word_count(sentence):\n",
    "    words = sentence.split()\n",
    "    word_freq = {}\n",
    "    for word in words:\n",
    "        word = word.lower()\n",
    "        if word in word_freq:\n",
    "            word_freq[word] += 1  \n",
    "        else:\n",
    "            word_freq[word] = 1  \n",
    "    return word_freq \n",
    "sentence = \"This is a test sentence and this is just a test\"\n",
    "result = word_count(sentence)\n",
    "print(result)  "
   ]
  },
  {
   "cell_type": "markdown",
   "id": "9004bab6-be21-4c4c-837b-c1b2cdedb299",
   "metadata": {},
   "source": [
    "### 12. Write a function generate_password(length) that returns a random password of the given length containing letters, digits, and special characters."
   ]
  },
  {
   "cell_type": "code",
   "execution_count": 12,
   "id": "9bc2a4b7-eba1-4e47-8548-1263269000f3",
   "metadata": {},
   "outputs": [
    {
     "name": "stdout",
     "output_type": "stream",
     "text": [
      "N\\wt|-pF*)>g\n"
     ]
    }
   ],
   "source": [
    "import random\n",
    "import string\n",
    "def generate_password(length):\n",
    "    characters = string.ascii_letters + string.digits + string.punctuation\n",
    "    password = ''.join(random.choices(characters, k=length))\n",
    "    return password \n",
    "password = generate_password(12)  \n",
    "print(password) "
   ]
  },
  {
   "cell_type": "code",
   "execution_count": 13,
   "id": "2090c28c-b081-4ea7-a009-09ef16820838",
   "metadata": {},
   "outputs": [
    {
     "name": "stdout",
     "output_type": "stream",
     "text": [
      "xXU]zl~`CW\"U\n"
     ]
    }
   ],
   "source": [
    "import random\n",
    "import string\n",
    "\n",
    "# Define the function generate_password to generate a random password\n",
    "def generate_password(length):\n",
    "    # Define the characters that can be used in the password\n",
    "    characters = string.ascii_letters + string.digits + string.punctuation\n",
    "    \n",
    "    # Use random.choices to randomly select characters for the password\n",
    "    password = ''.join(random.choices(characters, k=length))\n",
    "    \n",
    "    return password  # Return the generated password\n",
    "\n",
    "# Example usage:\n",
    "password = generate_password(12)  # Generate a password of length 12\n",
    "print(password)  # Output: (Random password like 'aB3#fH7k@2^')"
   ]
  }
 ],
 "metadata": {
  "kernelspec": {
   "display_name": "Python 3 (ipykernel)",
   "language": "python",
   "name": "python3"
  },
  "language_info": {
   "codemirror_mode": {
    "name": "ipython",
    "version": 3
   },
   "file_extension": ".py",
   "mimetype": "text/x-python",
   "name": "python",
   "nbconvert_exporter": "python",
   "pygments_lexer": "ipython3",
   "version": "3.12.7"
  }
 },
 "nbformat": 4,
 "nbformat_minor": 5
}
