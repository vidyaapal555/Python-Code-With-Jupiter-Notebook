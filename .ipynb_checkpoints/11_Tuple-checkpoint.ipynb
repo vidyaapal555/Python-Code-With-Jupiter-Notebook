{
 "cells": [
  {
   "cell_type": "markdown",
   "id": "fbf4d6b8-662c-4cbe-9fc0-5fcdb42a5290",
   "metadata": {},
   "source": [
    "### Tuples"
   ]
  },
  {
   "cell_type": "markdown",
   "id": "d8fbcd2a-1459-4424-a94c-e5d339c2328b",
   "metadata": {},
   "source": [
    "### basic"
   ]
  },
  {
   "cell_type": "code",
   "execution_count": 1,
   "id": "3a5bad75-3538-446a-bfee-bc48fc2a5e0e",
   "metadata": {},
   "outputs": [
    {
     "name": "stdout",
     "output_type": "stream",
     "text": [
      "item is present\n",
      "this is string tuple "
     ]
    }
   ],
   "source": [
    "tup1 = (\"this\", \"is\",\"string\",\"tuple\")\n",
    "\n",
    "#using membership operator to check any element present in tuple or not\n",
    "def check_presence(input_tuple,item):\n",
    "    if item in input_tuple:\n",
    "        print(\"item is present\")\n",
    "    else:\n",
    "        print(\"item is not present\")\n",
    "\n",
    "check_presence(tup1,\"string\")\n",
    "\n",
    "#running loop on tuple\n",
    "for i in range(len(tup1)):\n",
    "    print(tup1[i],\"\",end=\"\")"
   ]
  },
  {
   "cell_type": "markdown",
   "id": "2775b353-c4a3-45aa-a3dd-3b6fc0a6bd42",
   "metadata": {},
   "source": [
    "### changing tuple"
   ]
  },
  {
   "cell_type": "code",
   "execution_count": 2,
   "id": "89249cf8-8d0f-4d18-a3d4-96df9cf453fb",
   "metadata": {},
   "outputs": [
    {
     "name": "stdout",
     "output_type": "stream",
     "text": [
      "<class 'list'>\n",
      "<class 'tuple'>\n"
     ]
    }
   ],
   "source": [
    "tup2 = (1,2,3,4)\n",
    "tup2 = (1,2,3,4,5,)\n",
    "tup3 = (6,7,8,9,10)\n",
    "\n",
    "# we cannot change the tuple values but we can reassign the new tuple values to variable\n",
    "# we can make tuple into list first then change it and then make tuple of that list\n",
    "\n",
    "tup5 = (\"This\", \"is\", \"testing\" ,\"tuple\")\n",
    "\n",
    "tup_list = list(tup5)\n",
    "tup_list.append(\"do it\")\n",
    "print (type(tup_list))\n",
    "tup6 = tuple(tup_list)\n",
    "print(type(tup6))\n",
    "#del tup_list[1]\n",
    "#tup_list.pop(0)\n",
    "#print(tup_list)"
   ]
  },
  {
   "cell_type": "markdown",
   "id": "7cf281ae-00be-4a95-98bb-1cfe6c4f34de",
   "metadata": {},
   "source": [
    "### Unpack tuple"
   ]
  },
  {
   "cell_type": "code",
   "execution_count": 3,
   "id": "68b846f9-9583-438d-b784-d0c2524b316c",
   "metadata": {},
   "outputs": [
    {
     "name": "stdout",
     "output_type": "stream",
     "text": [
      "james 22 cook\n",
      "['jack fruit', 'grapes', 'banana', 'watermelon', 'mango']\n"
     ]
    }
   ],
   "source": [
    "tup6 = (\"james\",22,\"cook\")\n",
    "(name, age, occupation) = tup6\n",
    "print(name, age, occupation)\n",
    "tup7 = (\"pineapple\",\"apple\",\"jack fruit\",\"grapes\",\"banana\",\"watermelon\",\"mango\")\n",
    "#below * is star operator\n",
    "(fruit1,fruit2,*remaining) = tup7\n",
    "print(remaining)\n",
    "#(fruit1,*remaining, fruit2) = tup7\n",
    "#print(fruit1, remaining, fruit2)"
   ]
  },
  {
   "cell_type": "code",
   "execution_count": 4,
   "id": "02b75f11-305c-4d6c-9a54-338dc6d90816",
   "metadata": {},
   "outputs": [
    {
     "name": "stdout",
     "output_type": "stream",
     "text": [
      "(1, 2, 3, 4, 5, 6)\n"
     ]
    }
   ],
   "source": [
    "tup8 = (1,2,3)\n",
    "tup9 = (4,5,6)\n",
    "tup10 = tup8+tup9\n",
    "print(tup10)"
   ]
  }
 ],
 "metadata": {
  "kernelspec": {
   "display_name": "Python 3 (ipykernel)",
   "language": "python",
   "name": "python3"
  },
  "language_info": {
   "codemirror_mode": {
    "name": "ipython",
    "version": 3
   },
   "file_extension": ".py",
   "mimetype": "text/x-python",
   "name": "python",
   "nbconvert_exporter": "python",
   "pygments_lexer": "ipython3",
   "version": "3.12.7"
  }
 },
 "nbformat": 4,
 "nbformat_minor": 5
}
