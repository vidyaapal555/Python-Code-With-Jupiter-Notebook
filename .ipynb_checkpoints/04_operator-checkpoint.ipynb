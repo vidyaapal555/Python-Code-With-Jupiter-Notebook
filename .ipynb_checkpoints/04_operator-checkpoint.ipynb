{
 "cells": [
  {
   "cell_type": "markdown",
   "id": "261f15d5-18db-46ad-b727-bccc447d77c9",
   "metadata": {},
   "source": [
    "### Arithmetic Operators"
   ]
  },
  {
   "cell_type": "code",
   "execution_count": 1,
   "id": "1bd94388-5105-4387-ac40-275b1d1d9b62",
   "metadata": {},
   "outputs": [
    {
     "name": "stdout",
     "output_type": "stream",
     "text": [
      "22\n",
      "2\n",
      "1.2\n",
      "120\n",
      "4\n",
      "1\n",
      "1\n"
     ]
    }
   ],
   "source": [
    "print(12 + 10)\n",
    "print(12 - 10)\n",
    "print(12 / 10)\n",
    "print(12 * 10)\n",
    "print(2 ** 2)\n",
    "print(11 % 2) \n",
    "print(12 // 10) # Divide the number and return floor value"
   ]
  },
  {
   "cell_type": "markdown",
   "id": "1604edaa-9435-42b2-8b51-912b1e5d5b4e",
   "metadata": {},
   "source": [
    "### Assignment Operators"
   ]
  },
  {
   "cell_type": "code",
   "execution_count": 2,
   "id": "4edf3f3e-9687-4df7-b82c-14c9cc65a51e",
   "metadata": {},
   "outputs": [
    {
     "name": "stdout",
     "output_type": "stream",
     "text": [
      "1.0\n"
     ]
    }
   ],
   "source": [
    "a = 10\n",
    "a += 10\n",
    "a *= 10\n",
    "a /= 10\n",
    "a -= 10\n",
    "a //= 10\n",
    "a **= 10\n",
    "a %= 10\n",
    "print(a)"
   ]
  },
  {
   "cell_type": "code",
   "execution_count": 3,
   "id": "03e98934-b7c0-4923-9c54-56d667c64200",
   "metadata": {},
   "outputs": [
    {
     "name": "stdout",
     "output_type": "stream",
     "text": [
      "11.0\n"
     ]
    }
   ],
   "source": [
    "a += 10\n",
    "print(a)"
   ]
  },
  {
   "cell_type": "markdown",
   "id": "95b0bc2f-4837-40a2-8323-c0de74cb2b4c",
   "metadata": {},
   "source": [
    "### Bitwise Operators"
   ]
  },
  {
   "cell_type": "code",
   "execution_count": 4,
   "id": "b9740c14-be8f-4799-a295-80598eb76302",
   "metadata": {},
   "outputs": [
    {
     "name": "stdout",
     "output_type": "stream",
     "text": [
      "11.0\n",
      "True\n"
     ]
    }
   ],
   "source": [
    "# print(a)\n",
    "\n",
    "b = 10\n",
    "c = 12\n",
    "# print(c & b)\n",
    "# print(True & False)\n",
    "# print(True | False)\n",
    "# print(~True)\n",
    "# print(True ^ False)\n",
    "\n",
    "print(a)\n",
    "b = 10\n",
    "c = 12\n",
    "print(True ^ False)"
   ]
  },
  {
   "cell_type": "markdown",
   "id": "53e439fb-065f-4c20-8d71-93f14a762402",
   "metadata": {},
   "source": [
    "### Comparison Operators"
   ]
  },
  {
   "cell_type": "code",
   "execution_count": 5,
   "id": "71d24bcc-f32d-4845-a187-d34a055d0cea",
   "metadata": {},
   "outputs": [
    {
     "name": "stdout",
     "output_type": "stream",
     "text": [
      "True\n",
      "False\n",
      "True\n"
     ]
    }
   ],
   "source": [
    "# print(b < c)\n",
    "# print(b > c)\n",
    "# print(b != c)\n",
    "# print(\"1\" == 1)\n",
    "\n",
    "d = 10\n",
    "e = d\n",
    "team1 = {\"one\": \"faiz\", \"two\": \"messi\"}\n",
    "team2 = team1\n",
    "team3 = {\"one\": \"faiz\", \"two\": \"messi\"}\n",
    "\n",
    "print(team2 is team1)\n",
    "print(team3 is team1)\n",
    "print(d is e)"
   ]
  },
  {
   "cell_type": "markdown",
   "id": "f6c4a6f9-fb5d-470b-ace4-ef79cd986e50",
   "metadata": {},
   "source": [
    "### Logical Operators"
   ]
  },
  {
   "cell_type": "code",
   "execution_count": 6,
   "id": "9d923e88-e766-4060-b563-4d3d2bd14831",
   "metadata": {},
   "outputs": [
    {
     "name": "stdin",
     "output_type": "stream",
     "text": [
      "Enter your age: 20\n"
     ]
    },
    {
     "name": "stdout",
     "output_type": "stream",
     "text": [
      "You are eligible to drive\n"
     ]
    },
    {
     "name": "stdin",
     "output_type": "stream",
     "text": [
      "Enter a Number 30\n"
     ]
    },
    {
     "name": "stdout",
     "output_type": "stream",
     "text": [
      "This is a even number\n",
      "Number is between the privide range\n"
     ]
    }
   ],
   "source": [
    "#Example 1\n",
    "age = input(\"Enter your age:\")\n",
    "age = 20\n",
    "\n",
    "if age >= 18 and age < 55:\n",
    "    print(\"You are eligible to drive\")\n",
    "elif age < 18 or age > 55:\n",
    "    print(\"You are not eligible to drive\")\n",
    "else:\n",
    "    print(\"The input you have typed is not compatible\")\n",
    "\n",
    "#Example 2\n",
    "number = int(input(\"Enter a Number\"))\n",
    "\n",
    "if number%2 == 0:\n",
    "    print(\"This is a even number\")\n",
    "elif number%2 != 0:\n",
    "    print (\"This is a odd Number\")\n",
    "if 10 < number < 50:\n",
    "    print(\"Number is between the privide range\")"
   ]
  },
  {
   "cell_type": "markdown",
   "id": "31e55135-ec4a-4f54-8a9c-de9efc3c5c06",
   "metadata": {},
   "source": [
    "### Membership Operators"
   ]
  },
  {
   "cell_type": "code",
   "execution_count": 7,
   "id": "46c9bf83-665f-4799-8190-d56575dccbf9",
   "metadata": {},
   "outputs": [
    {
     "name": "stdout",
     "output_type": "stream",
     "text": [
      "True\n",
      "False\n"
     ]
    }
   ],
   "source": [
    "print(\"one\" in team2)\n",
    "print(\"two\" not in team2)"
   ]
  }
 ],
 "metadata": {
  "kernelspec": {
   "display_name": "Python 3 (ipykernel)",
   "language": "python",
   "name": "python3"
  },
  "language_info": {
   "codemirror_mode": {
    "name": "ipython",
    "version": 3
   },
   "file_extension": ".py",
   "mimetype": "text/x-python",
   "name": "python",
   "nbconvert_exporter": "python",
   "pygments_lexer": "ipython3",
   "version": "3.12.7"
  }
 },
 "nbformat": 4,
 "nbformat_minor": 5
}
