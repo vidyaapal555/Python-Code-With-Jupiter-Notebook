{
 "cells": [
  {
   "cell_type": "markdown",
   "id": "b08594d0-3157-42e7-97e2-79dfc04da40f",
   "metadata": {},
   "source": [
    "### Adding in set"
   ]
  },
  {
   "cell_type": "code",
   "execution_count": 1,
   "id": "f6ef40ee-9afc-4e52-baa3-2a9fee83b27c",
   "metadata": {},
   "outputs": [
    {
     "name": "stdout",
     "output_type": "stream",
     "text": [
      "{1, 2, 3, 4, 5, 6, 7}\n"
     ]
    }
   ],
   "source": [
    "set1 = {1,2,3,4}\n",
    "set1.add(5)\n",
    "list1 = [5,6,7]\n",
    "set1.update(list1)\n",
    "print(set1)"
   ]
  },
  {
   "cell_type": "markdown",
   "id": "b6f7ccc3-b887-498e-880f-4952d3412a63",
   "metadata": {},
   "source": [
    "### Removing in set"
   ]
  },
  {
   "cell_type": "code",
   "execution_count": 2,
   "id": "44f730ad-9bbc-428c-ac66-bd7d3f9910af",
   "metadata": {},
   "outputs": [
    {
     "name": "stdout",
     "output_type": "stream",
     "text": [
      "set()\n"
     ]
    }
   ],
   "source": [
    "set2 = {1,2,3,4}\n",
    "# set2.remove(4) #will raise the error in item is not present in set\n",
    "# set2.discard(4)# will not raise error in item is not present in set\n",
    "#set2.pop() # will remove last item in set but set's are unordered\n",
    "#print(set2)\n",
    "set2.clear() #will clear all items in set\n",
    "print(set2)\n",
    "# del set2 # will delete entire set"
   ]
  },
  {
   "cell_type": "markdown",
   "id": "e962dea5-51b5-45a4-ad21-0bc174c96d0b",
   "metadata": {},
   "source": [
    "### set specific methods"
   ]
  },
  {
   "cell_type": "code",
   "execution_count": 3,
   "id": "4dfb1c1e-1bd5-4fff-80ba-aaa0b288116c",
   "metadata": {},
   "outputs": [
    {
     "name": "stdout",
     "output_type": "stream",
     "text": [
      "{'turkey', 'singapore', 'japan', 'bhutan', 'russia', 'nepal'}\n",
      "{4, 5}\n",
      "{4, 5}\n",
      "{1, 2, 3, 6, 7, 8}\n",
      "{1, 2, 3, 6, 7, 8}\n"
     ]
    }
   ],
   "source": [
    "set3 = {\"russia\",\"bhutan\",\"turkey\"}\n",
    "set4 = {\"nepal\",\"japan\",\"singapore\"}\n",
    "print(set4.union(set3))\n",
    "\n",
    "#common elements in set\n",
    "set5 ={1,2,3,4,5}\n",
    "set6 = {4,5,6,7,8}\n",
    "print(set5.intersection(set6))\n",
    "set5.intersection_update(set6)\n",
    "print(set5)\n",
    "\n",
    "set7 = {1,2,3,4,5}\n",
    "set8 = {4,5,6,7,8}\n",
    "print(set7.symmetric_difference(set8))\n",
    "set7.symmetric_difference_update(set8)\n",
    "print(set7)"
   ]
  },
  {
   "cell_type": "code",
   "execution_count": 4,
   "id": "b2987cd0-ad83-4949-911a-a77fc8391a4c",
   "metadata": {},
   "outputs": [
    {
     "name": "stdout",
     "output_type": "stream",
     "text": [
      "{1, 2, 3}\n",
      "None\n",
      "{1, 2, 3}\n"
     ]
    }
   ],
   "source": [
    "set7 = {1,2,3,4,5}\n",
    "set8 = {4,5,6,7,8}\n",
    "print(set7.difference(set8))\n",
    "print(set7.difference_update(set8))\n",
    "print(set7)"
   ]
  },
  {
   "cell_type": "code",
   "execution_count": 5,
   "id": "2dd533b5-0a5e-483a-9d99-047e2226aa34",
   "metadata": {},
   "outputs": [
    {
     "name": "stdout",
     "output_type": "stream",
     "text": [
      "True\n"
     ]
    }
   ],
   "source": [
    "# Cheking items of sets\n",
    "\n",
    "#cities = {\"Tokyo\", \"Madrid\", \"Berlin\", \"Delhi\"}\n",
    "#cities2 = {\"Tokyo\", \"Seoul\", \"Kabul\", \"Madrid\"}\n",
    "#print(cities.isdisjoint(cities2))\n",
    "\n",
    "#cities = {\"Tokyo\", \"Madrid\", \"Berlin\", \"Delhi\"}\n",
    "#cities2 = {\"Seoul\", \"Kabul\"}\n",
    "#print(cities.issuperset(cities2))\n",
    "#cities3 = {\"Seoul\", \"Madrid\",\"Kabul\"}\n",
    "#print(cities.issuperset(cities3))\n",
    "\n",
    "#cities = {\"Tokyo\", \"Madrid\", \"Berlin\", \"Delhi\"}\n",
    "#cities2 = {\"Delhi\", \"Madrid\"}\n",
    "#print(cities.issuperset(cities2))\n",
    "\n",
    "cities = {\"Tokyo\", \"Madrid\", \"Berlin\", \"Delhi\"}\n",
    "cities2 = {\"Delhi\", \"Madrid\"}\n",
    "print(cities2.issubset(cities))"
   ]
  }
 ],
 "metadata": {
  "kernelspec": {
   "display_name": "Python 3 (ipykernel)",
   "language": "python",
   "name": "python3"
  },
  "language_info": {
   "codemirror_mode": {
    "name": "ipython",
    "version": 3
   },
   "file_extension": ".py",
   "mimetype": "text/x-python",
   "name": "python",
   "nbconvert_exporter": "python",
   "pygments_lexer": "ipython3",
   "version": "3.12.7"
  }
 },
 "nbformat": 4,
 "nbformat_minor": 5
}
