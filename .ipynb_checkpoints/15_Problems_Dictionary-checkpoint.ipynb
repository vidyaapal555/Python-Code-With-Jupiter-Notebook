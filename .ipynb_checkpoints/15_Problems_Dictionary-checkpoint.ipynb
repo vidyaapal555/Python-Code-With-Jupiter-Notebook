{
 "cells": [
  {
   "cell_type": "markdown",
   "id": "3e4a5462-1588-45d2-a7ee-17d8c7ab1132",
   "metadata": {},
   "source": [
    "### Python Dictionaries - Practice Questions"
   ]
  },
  {
   "cell_type": "markdown",
   "id": "983c3486-45c2-4924-9a17-aa55afd1b289",
   "metadata": {},
   "source": [
    "### 1. Create a dictionary named student with keys: \"name\", \"age\", and \"grade\" having values \"Alice\", 20, and \"A\" respectively."
   ]
  },
  {
   "cell_type": "code",
   "execution_count": 1,
   "id": "b1641a38-cc94-426e-af21-fc21a7fff836",
   "metadata": {},
   "outputs": [
    {
     "name": "stdout",
     "output_type": "stream",
     "text": [
      "{'name': 'Alice', 'age': 20, 'grade': 'A'}\n"
     ]
    }
   ],
   "source": [
    "student = {\"name\": \"Alice\",\"age\": 20,\"grade\": \"A\"}\n",
    "print(student)"
   ]
  },
  {
   "cell_type": "markdown",
   "id": "23c57616-7c74-40eb-bee7-2cd490433c85",
   "metadata": {},
   "source": [
    "### 2. Add a new key \"subject\" with the value \"Math\" to the student dictionary."
   ]
  },
  {
   "cell_type": "code",
   "execution_count": 2,
   "id": "e1503e53-628d-4548-af90-09c2828f7a73",
   "metadata": {},
   "outputs": [
    {
     "name": "stdout",
     "output_type": "stream",
     "text": [
      "{'name': 'Alice', 'age': 20, 'grade': 'A', 'subject': 'Math'}\n"
     ]
    }
   ],
   "source": [
    "student = {\"name\": \"Alice\",\"age\": 20,\"grade\": \"A\"}\n",
    "student[\"subject\"] = \"Math\"\n",
    "print(student)"
   ]
  },
  {
   "cell_type": "markdown",
   "id": "88456bda-2ffa-4766-957d-c3462ac56f28",
   "metadata": {},
   "source": [
    "### 3. Update the \"grade\" key in the student dictionary to \"A+\"."
   ]
  },
  {
   "cell_type": "code",
   "execution_count": 3,
   "id": "88e47665-567e-4828-b55d-589161274c94",
   "metadata": {},
   "outputs": [
    {
     "name": "stdout",
     "output_type": "stream",
     "text": [
      "{'name': 'Alice', 'age': 20, 'grade': 'A+', 'subject': 'Math'}\n"
     ]
    }
   ],
   "source": [
    "student = {\"name\": \"Alice\",\"age\": 20,\"grade\": \"A\",\"subject\": \"Math\"}\n",
    "student[\"grade\"] = \"A+\"\n",
    "print(student)"
   ]
  },
  {
   "cell_type": "markdown",
   "id": "21d2e0bf-2571-4eaf-b57d-d7fbf0a69c22",
   "metadata": {},
   "source": [
    "### 4. Remove the key \"age\" from the student dictionary."
   ]
  },
  {
   "cell_type": "code",
   "execution_count": 4,
   "id": "cb46c043-863b-4122-b2c1-6fc289baf924",
   "metadata": {},
   "outputs": [
    {
     "name": "stdout",
     "output_type": "stream",
     "text": [
      "{'name': 'Alice', 'grade': 'A+', 'subject': 'Math'}\n"
     ]
    }
   ],
   "source": [
    "student = {\"name\": \"Alice\",\"age\": 20,\"grade\": \"A+\",\"subject\": \"Math\"}\n",
    "del student[\"age\"]\n",
    "print(student)"
   ]
  },
  {
   "cell_type": "markdown",
   "id": "945ac1af-71e7-42fa-86c6-95daba5fc2bb",
   "metadata": {},
   "source": [
    "### 5. Create two dictionaries:\n",
    "dict1 = {\"a\": 1, \"b\": 2, \"c\": 3} dict2 = {\"c\": 4, \"d\": 5, \"e\": 6} Merge dict2 into dict1."
   ]
  },
  {
   "cell_type": "code",
   "execution_count": 5,
   "id": "7208c770-065c-4ca5-b34d-bb075fe16d06",
   "metadata": {},
   "outputs": [
    {
     "name": "stdout",
     "output_type": "stream",
     "text": [
      "{'a': 1, 'b': 2, 'c': 4, 'd': 5, 'e': 6}\n"
     ]
    }
   ],
   "source": [
    "dict1 = {\"a\": 1, \"b\": 2, \"c\": 3}\n",
    "dict2 = {\"c\": 4, \"d\": 5, \"e\": 6}\n",
    "dict1.update(dict2)\n",
    "print(dict1)"
   ]
  },
  {
   "cell_type": "markdown",
   "id": "53cdc8be-8162-4219-ad82-9ead08238d25",
   "metadata": {},
   "source": [
    "### 6. Check if the key \"name\" exists in the student dictionary."
   ]
  },
  {
   "cell_type": "code",
   "execution_count": 6,
   "id": "ca2d797f-ab8a-4a3c-b7ff-83726c6faadb",
   "metadata": {},
   "outputs": [
    {
     "name": "stdout",
     "output_type": "stream",
     "text": [
      "The key 'name' exists in the student dictionary.\n"
     ]
    }
   ],
   "source": [
    "student = {\"name\": \"Alice\",\"age\": 20,\"grade\": \"A+\",\"subject\": \"Math\"}\n",
    "if \"name\" in student:\n",
    "    print(\"The key 'name' exists in the student dictionary.\")\n",
    "else:\n",
    "    print(\"The key 'name' does not exist in the student dictionary.\")"
   ]
  },
  {
   "cell_type": "markdown",
   "id": "a97f3f29-8716-4849-a46f-91ad0c0fa787",
   "metadata": {},
   "source": [
    "### 7. Iterate over the student dictionary and print both keys and values."
   ]
  },
  {
   "cell_type": "code",
   "execution_count": 7,
   "id": "64294080-1698-4d39-b087-9d808f4df5df",
   "metadata": {},
   "outputs": [
    {
     "name": "stdout",
     "output_type": "stream",
     "text": [
      "name: Alice\n",
      "age: 20\n",
      "grade: A+\n",
      "subject: Math\n"
     ]
    }
   ],
   "source": [
    "student = {\"name\": \"Alice\",\"age\": 20,\"grade\": \"A+\",\"subject\": \"Math\"}\n",
    "for key, value in student.items():\n",
    "      print(f\"{key}: {value}\")"
   ]
  },
  {
   "cell_type": "markdown",
   "id": "f9af7a43-abd5-4b79-89e4-1c431fdeabe4",
   "metadata": {},
   "source": [
    "### 8. Get the value of the key \"grade\" from student using the get() method."
   ]
  },
  {
   "cell_type": "code",
   "execution_count": 8,
   "id": "169ae2ee-e142-4984-a117-72392f5cabc8",
   "metadata": {},
   "outputs": [
    {
     "name": "stdout",
     "output_type": "stream",
     "text": [
      "A+\n"
     ]
    }
   ],
   "source": [
    "student = {\"name\": \"Alice\",\"age\": 20,\"grade\": \"A+\",\"subject\": \"Math\"}\n",
    "grade = student.get(\"grade\")\n",
    "print(grade)"
   ]
  },
  {
   "cell_type": "markdown",
   "id": "d43358c8-a123-4429-a7e1-0477c300e872",
   "metadata": {},
   "source": [
    "### 9. Create a dictionary with nested dictionaries representing a library with books and their authors."
   ]
  },
  {
   "cell_type": "code",
   "execution_count": 9,
   "id": "8ae2794b-6aad-4bc3-8170-61e890e93da1",
   "metadata": {},
   "outputs": [
    {
     "name": "stdout",
     "output_type": "stream",
     "text": [
      "{'The Catcher in the Rye': {'author': 'J.D. Salinger', 'year': 1951}, 'To Kill a Mockingbird': {'author': 'Harper Lee', 'year': 1960}, '1984': {'author': 'George Orwell', 'year': 1949}, 'The Great Gatsby': {'author': 'F. Scott Fitzgerald', 'year': 1925}}\n"
     ]
    }
   ],
   "source": [
    "library = {\n",
    "           \"The Catcher in the Rye\": {\"author\": \"J.D. Salinger\",\"year\": 1951},\n",
    "           \"To Kill a Mockingbird\": {\"author\": \"Harper Lee\",\"year\": 1960},\n",
    "           \"1984\": {\"author\": \"George Orwell\",\"year\": 1949},\n",
    "           \"The Great Gatsby\": {\"author\": \"F. Scott Fitzgerald\",\"year\": 1925}\n",
    "          }\n",
    "print(library)"
   ]
  },
  {
   "cell_type": "markdown",
   "id": "b3dc3925-c8d0-4020-84b5-3000ebabc951",
   "metadata": {},
   "source": [
    "### 10. Convert the keys of student dictionary into a list and print it."
   ]
  },
  {
   "cell_type": "code",
   "execution_count": 10,
   "id": "66b8387c-0e23-4711-8267-74673bb8090f",
   "metadata": {},
   "outputs": [
    {
     "name": "stdout",
     "output_type": "stream",
     "text": [
      "['name', 'age', 'grade', 'subject']\n"
     ]
    }
   ],
   "source": [
    "student = {\"name\": \"Alice\",\"age\": 20,\"grade\": \"A+\",\"subject\": \"Math\"}\n",
    "keys_list = list(student.keys())\n",
    "print(keys_list)"
   ]
  },
  {
   "cell_type": "markdown",
   "id": "81998527-7cc8-43a3-86db-90ea23e120b2",
   "metadata": {},
   "source": [
    "### 11. Convert the values of student dictionary into a list and print it."
   ]
  },
  {
   "cell_type": "code",
   "execution_count": 11,
   "id": "9dae79c2-8e6b-4b57-a998-3847995bf41b",
   "metadata": {},
   "outputs": [
    {
     "name": "stdout",
     "output_type": "stream",
     "text": [
      "['Alice', 20, 'A+', 'Math']\n"
     ]
    }
   ],
   "source": [
    "student = {\"name\": \"Alice\",\"age\": 20,\"grade\": \"A+\",\"subject\": \"Math\"}\n",
    "values_list = list(student.values())\n",
    "print(values_list)"
   ]
  },
  {
   "cell_type": "markdown",
   "id": "1c7e6bb7-dc0d-4b93-94f7-3a3ae3982f99",
   "metadata": {},
   "source": [
    "### 12. Create a dictionary from two lists:\n",
    "keys = [\"name\", \"age\", \"city\"] values = [\"Bob\", 25, \"New York\"] Convert them into a dictionary and print the result."
   ]
  },
  {
   "cell_type": "code",
   "execution_count": 12,
   "id": "eb79a8e7-3670-456f-9f58-579fbd803ae2",
   "metadata": {},
   "outputs": [
    {
     "name": "stdout",
     "output_type": "stream",
     "text": [
      "{'name': 'Bob', 'age': 25, 'city': 'New York'}\n"
     ]
    }
   ],
   "source": [
    "keys = [\"name\", \"age\", \"city\"]\n",
    "values = [\"Bob\", 25, \"New York\"]\n",
    "dictionary = dict(zip(keys, values))\n",
    "print(dictionary)"
   ]
  }
 ],
 "metadata": {
  "kernelspec": {
   "display_name": "Python 3 (ipykernel)",
   "language": "python",
   "name": "python3"
  },
  "language_info": {
   "codemirror_mode": {
    "name": "ipython",
    "version": 3
   },
   "file_extension": ".py",
   "mimetype": "text/x-python",
   "name": "python",
   "nbconvert_exporter": "python",
   "pygments_lexer": "ipython3",
   "version": "3.12.7"
  }
 },
 "nbformat": 4,
 "nbformat_minor": 5
}
