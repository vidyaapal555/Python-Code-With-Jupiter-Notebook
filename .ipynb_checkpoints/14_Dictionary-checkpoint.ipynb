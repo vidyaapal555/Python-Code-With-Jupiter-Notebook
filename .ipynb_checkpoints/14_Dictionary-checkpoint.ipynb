{
 "cells": [
  {
   "cell_type": "markdown",
   "id": "d6261b65-87f4-4dd3-974d-cf624f7e4207",
   "metadata": {},
   "source": [
    "### Dictionary"
   ]
  },
  {
   "cell_type": "markdown",
   "id": "97c63371-6d1c-4889-9b06-a313d8fa9cb4",
   "metadata": {},
   "source": [
    "### basics"
   ]
  },
  {
   "cell_type": "code",
   "execution_count": 1,
   "id": "ce72a9b1-1a0f-40d8-aabf-1d5bb0f35b7f",
   "metadata": {},
   "outputs": [
    {
     "name": "stdout",
     "output_type": "stream",
     "text": [
      "{'name': 'Karan', 'age': 19, 'eligible': True}\n"
     ]
    }
   ],
   "source": [
    "info = {'name':'Karan', 'age':19, 'eligible':True}\n",
    "print(info)"
   ]
  },
  {
   "cell_type": "markdown",
   "id": "fdb35c5d-2367-4a1e-ac2a-0697d1bf1872",
   "metadata": {},
   "source": [
    "### Accessing Dictionary items"
   ]
  },
  {
   "cell_type": "code",
   "execution_count": 2,
   "id": "8a2f8eb1-56fa-4d87-9929-68030c24e595",
   "metadata": {},
   "outputs": [
    {
     "name": "stdout",
     "output_type": "stream",
     "text": [
      "Karan\n",
      "19\n",
      "dict_values(['Karan', 19, True])\n",
      "dict_keys(['name', 'age', 'eligible'])\n",
      "dict_items([('name', 'Karan'), ('age', 19), ('eligible', True)])\n"
     ]
    }
   ],
   "source": [
    "info = {'name':'Karan', 'age':19, 'eligible':True}\n",
    "print(info[\"name\"])\n",
    "print(info.get(\"age\"))\n",
    "\n",
    "#accessing all values\n",
    "print(info.values())\n",
    "\n",
    "#accessing all keys\n",
    "print(info.keys())\n",
    "\n",
    "#asceesing al key-value pairs\n",
    "print(info.items())"
   ]
  },
  {
   "cell_type": "markdown",
   "id": "e1d59234-9157-4f11-b1eb-f39f6ebe355c",
   "metadata": {},
   "source": [
    "### Adding items in Dictionary"
   ]
  },
  {
   "cell_type": "code",
   "execution_count": 3,
   "id": "d822d311-25cd-4636-94e0-f700313ac074",
   "metadata": {},
   "outputs": [
    {
     "name": "stdout",
     "output_type": "stream",
     "text": [
      "{'name': 'mohit', 'age': 19, 'eligible': True, 'grade': 'A'}\n",
      "{'name': 'mohit', 'age': 20, 'eligible': True, 'grade': 'A', 'sport': 'cricket'}\n"
     ]
    }
   ],
   "source": [
    "info = {'name':'Karan', 'age':19, 'eligible':True}\n",
    "info[\"name\"] = \"mohit\"\n",
    "info[\"grade\"] = \"A\"\n",
    "print(info)\n",
    "info.update({\"age\":20})\n",
    "info.update({\"sport\":\"cricket\"})\n",
    "print(info)"
   ]
  },
  {
   "cell_type": "markdown",
   "id": "6710eb70-36c4-4474-bdf7-ccaa3426df31",
   "metadata": {},
   "source": [
    "### Removing items in Dictionary"
   ]
  },
  {
   "cell_type": "code",
   "execution_count": 4,
   "id": "11ed66a1-7e2b-453f-a622-df322a0c5203",
   "metadata": {},
   "outputs": [
    {
     "name": "stdout",
     "output_type": "stream",
     "text": [
      "{'name': 'Karan', 'age': 19}\n"
     ]
    }
   ],
   "source": [
    "info = {'name':'Karan', 'age':19, 'eligible':True}\n",
    "#info.pop(\"name\") # here you can specify key \n",
    "info.popitem() # here last key-value pair get's removed\n",
    "#del info[\"age\"]\n",
    "#info.clear()\n",
    "print(info)"
   ]
  },
  {
   "cell_type": "markdown",
   "id": "a923d330-7eae-43b4-b5ff-20e8101e0501",
   "metadata": {},
   "source": [
    "### Copy in Dictionary"
   ]
  },
  {
   "cell_type": "code",
   "execution_count": 5,
   "id": "4851675f-e70e-4a35-b3ed-a279b0fd957a",
   "metadata": {},
   "outputs": [
    {
     "name": "stdout",
     "output_type": "stream",
     "text": [
      "{'name': 'Karan', 'age': 19, 'eligible': True}\n"
     ]
    }
   ],
   "source": [
    "info = {'name':'Karan', 'age':19, 'eligible':True}\n",
    "info2 = info.copy()\n",
    "info3 = dict(info)\n",
    "print(info2)"
   ]
  }
 ],
 "metadata": {
  "kernelspec": {
   "display_name": "Python 3 (ipykernel)",
   "language": "python",
   "name": "python3"
  },
  "language_info": {
   "codemirror_mode": {
    "name": "ipython",
    "version": 3
   },
   "file_extension": ".py",
   "mimetype": "text/x-python",
   "name": "python",
   "nbconvert_exporter": "python",
   "pygments_lexer": "ipython3",
   "version": "3.12.7"
  }
 },
 "nbformat": 4,
 "nbformat_minor": 5
}
