{
 "cells": [
  {
   "cell_type": "markdown",
   "id": "2df6080a-6364-4125-aff2-f70f7fb3cf42",
   "metadata": {},
   "source": [
    "### Question 1: Concatenate two strings without using the + operator."
   ]
  },
  {
   "cell_type": "code",
   "execution_count": 1,
   "id": "0172663c-1ed0-47e8-8d1c-54a5dbe843e8",
   "metadata": {},
   "outputs": [
    {
     "name": "stdout",
     "output_type": "stream",
     "text": [
      "hello world\n",
      "hello world\n",
      "hello world\n",
      "second first\n"
     ]
    }
   ],
   "source": [
    "# Using f-string\n",
    "str1 = \"hello\"\n",
    "str2 = \"world\"\n",
    "print(f\"{str1} {str2}\")\n",
    "\n",
    "# Using join method\n",
    "print(\" \".join([str1, str2]))\n",
    "\n",
    "# Using format method\n",
    "print(\"{} {}\".format(str1, str2))\n",
    "print(\"{1} {0}\".format(\"first\", \"second\"))"
   ]
  },
  {
   "cell_type": "markdown",
   "id": "ab929f5c-8c86-4166-ae85-06147928a549",
   "metadata": {},
   "source": [
    "### Question 2: Reverse the string 'Python' using slicing."
   ]
  },
  {
   "cell_type": "code",
   "execution_count": 2,
   "id": "7fef483b-c985-44bc-aa4c-d920754eab3c",
   "metadata": {},
   "outputs": [
    {
     "name": "stdout",
     "output_type": "stream",
     "text": [
      "nohtyP\n"
     ]
    }
   ],
   "source": [
    "def reverseStr(input):\n",
    "    return input[::-1]\n",
    "\n",
    "print(reverseStr(\"Python\"))"
   ]
  },
  {
   "cell_type": "markdown",
   "id": "32c7958b-6b02-4061-92db-8e0162946a9a",
   "metadata": {},
   "source": [
    "### Question 3: Check if the string 'level' is a palindrome."
   ]
  },
  {
   "cell_type": "code",
   "execution_count": 3,
   "id": "ddd3a707-e459-4ce9-ab78-7ec963c86d5a",
   "metadata": {},
   "outputs": [
    {
     "name": "stdout",
     "output_type": "stream",
     "text": [
      "True\n"
     ]
    }
   ],
   "source": [
    "def checkPalindrome(input):\n",
    "    return input == input[::-1]\n",
    "\n",
    "print(checkPalindrome(\"level\"))"
   ]
  },
  {
   "cell_type": "markdown",
   "id": "ef18a800-191e-4f6d-a5ce-c7333a0b69eb",
   "metadata": {},
   "source": [
    "### Question 4: Convert 'hello world' to uppercase and 'PYTHON' to lowercase."
   ]
  },
  {
   "cell_type": "code",
   "execution_count": 4,
   "id": "aa6f8640-8618-4b2e-8d51-edc9aed74486",
   "metadata": {},
   "outputs": [
    {
     "name": "stdout",
     "output_type": "stream",
     "text": [
      "HELLO WORLD\n",
      "hello world\n",
      "HELLO WORLD python\n"
     ]
    }
   ],
   "source": [
    "#Example 1\n",
    "str3 = \"hello world\"\n",
    "print(str3.upper())\n",
    "print(str3.lower())\n",
    "\n",
    "#Example 2\n",
    "print(\"hello world\".upper(), \"PYTHON\".lower())"
   ]
  },
  {
   "cell_type": "markdown",
   "id": "fc897310-6c60-400e-9afe-c1b4b1f354c4",
   "metadata": {},
   "source": [
    "### Question 5: Remove leading and trailing spaces from the string ' Python '."
   ]
  },
  {
   "cell_type": "code",
   "execution_count": 5,
   "id": "106ce1cc-6408-4df4-b69a-33053d373c4b",
   "metadata": {},
   "outputs": [
    {
     "name": "stdout",
     "output_type": "stream",
     "text": [
      " Python\n",
      "Python \n",
      "Python\n"
     ]
    }
   ],
   "source": [
    "str4 = \" Python \"\n",
    "print(str4.rstrip())\n",
    "print(str4.lstrip())\n",
    "print(str4.strip())"
   ]
  },
  {
   "cell_type": "markdown",
   "id": "a2797c6e-c72e-4204-9af4-d0be411b53f6",
   "metadata": {},
   "source": [
    "### Question 6: Replace all occurrences of 'apple' with 'orange' in the string 'apple pie and apple juice'."
   ]
  },
  {
   "cell_type": "code",
   "execution_count": 6,
   "id": "56df8fbc-8310-43e8-961c-688f0b7bc8a7",
   "metadata": {},
   "outputs": [
    {
     "name": "stdout",
     "output_type": "stream",
     "text": [
      "orange pie and orange juice\n"
     ]
    }
   ],
   "source": [
    "str5 = \"apple pie and apple juice\"\n",
    "print(str5.replace(\"apple\", \"orange\"))"
   ]
  },
  {
   "cell_type": "markdown",
   "id": "004893fe-b962-4c40-9a97-873a40446075",
   "metadata": {},
   "source": [
    "### Question 7: Find the position of the first occurrence of 'world' in 'Hello world, welcome to the world of Python!'."
   ]
  },
  {
   "cell_type": "code",
   "execution_count": 7,
   "id": "8b1cd8e4-1b65-436f-bac4-46a7e5926b45",
   "metadata": {},
   "outputs": [
    {
     "name": "stdout",
     "output_type": "stream",
     "text": [
      "6\n"
     ]
    }
   ],
   "source": [
    "str6 = \"Hello world, welcome to the world of Python!\"\n",
    "print(str6.find(\"world\"))"
   ]
  },
  {
   "cell_type": "markdown",
   "id": "dd21a831-7894-43e0-9915-f173a6b2a38a",
   "metadata": {},
   "source": [
    "### Question 8: Concatenation and Repetition"
   ]
  },
  {
   "cell_type": "code",
   "execution_count": 8,
   "id": "25dcb8f8-37dc-4ea3-9200-9a0f7dbe9ee0",
   "metadata": {},
   "outputs": [
    {
     "name": "stdout",
     "output_type": "stream",
     "text": [
      "Hello WorldHello WorldHello World\n"
     ]
    }
   ],
   "source": [
    "str6 = \"Hello\"\n",
    "str7 = \"World\"\n",
    "newStr = \" \".join([str6, str7])\n",
    "print(newStr * 3)"
   ]
  },
  {
   "cell_type": "markdown",
   "id": "85672d9d-03b5-46e0-9a7e-2e8f94686217",
   "metadata": {},
   "source": [
    "### Question 9: Indexing and Slicing"
   ]
  },
  {
   "cell_type": "code",
   "execution_count": 9,
   "id": "d49cf875-4852-451f-a3ba-3c239bd4b324",
   "metadata": {},
   "outputs": [
    {
     "name": "stdout",
     "output_type": "stream",
     "text": [
      "Python\n",
      "mming\n",
      "PtoPormig\n",
      "gnimmargorPnohtyP\n"
     ]
    }
   ],
   "source": [
    "str8 = \"PythonProgramming\"\n",
    "print(str8[:6])  # First 6 characters\n",
    "print(str8[-5:])  # Last 5 characters\n",
    "print(str8[::2])  # Characters at even indices\n",
    "print(str8[::-1])  # Reverse the string"
   ]
  },
  {
   "cell_type": "markdown",
   "id": "1fcd710a-953c-4bda-8a6b-8390010b0866",
   "metadata": {},
   "source": [
    "### Question 10: Manipulation Methods"
   ]
  },
  {
   "cell_type": "code",
   "execution_count": 10,
   "id": "e4a1b7ab-c490-4eed-ba4e-8f781dc1a380",
   "metadata": {},
   "outputs": [
    {
     "name": "stdout",
     "output_type": "stream",
     "text": [
      "Python is AWESOME!!!\n",
      " PYTHON IS AWESOME!!!   python is awesome!!!   Python Is Awesome!!! \n",
      " Python is great!!! \n",
      "['', 'Python', 'is', 'AWESOME!!!', '']\n",
      "-Python-is-AWESOME!!!-\n"
     ]
    }
   ],
   "source": [
    "str9 = \" Python is AWESOME!!! \"\n",
    "print(str9.strip())  # Remove leading and trailing spaces\n",
    "print(str9.upper(), str9.lower(), str9.title())  # Case conversions\n",
    "print(str9.replace(\"AWESOME\", \"great\"))  # Replace substring\n",
    "print(str9.split(\" \"))  # Split the string\n",
    "print(\"-\".join(str9.split(\" \")))  # Join with hyphen"
   ]
  },
  {
   "cell_type": "markdown",
   "id": "b60b44e2-2c54-47b3-a256-15f2392df96a",
   "metadata": {},
   "source": [
    "### Question 11: Check if the strings below are alphanumeric, alphabetic, numeric, uppercase, or lowercase."
   ]
  },
  {
   "cell_type": "code",
   "execution_count": 11,
   "id": "cf9f2b36-ecbe-47af-991c-68ca5064b09b",
   "metadata": {},
   "outputs": [
    {
     "name": "stdout",
     "output_type": "stream",
     "text": [
      "True\n",
      "True\n",
      "True\n",
      "True\n",
      "False\n"
     ]
    }
   ],
   "source": [
    "print(\"Python123\".isalnum())\n",
    "print(\"2025\".isnumeric())\n",
    "print(\"HELLO\".isupper())\n",
    "print(\"hello\".islower())\n",
    "print(\"$money$\".isalpha())"
   ]
  },
  {
   "cell_type": "markdown",
   "id": "d3ce80c5-620c-4fdb-b044-608e2629fca2",
   "metadata": {},
   "source": [
    "### Question 12: Search and Count Methods"
   ]
  },
  {
   "cell_type": "code",
   "execution_count": 12,
   "id": "7817d96e-ad6e-4c73-b10a-318f6b5d12db",
   "metadata": {},
   "outputs": [
    {
     "name": "stdout",
     "output_type": "stream",
     "text": [
      "10\n",
      "True\n",
      "3\n"
     ]
    }
   ],
   "source": [
    "str10 = \"Python is popular and powerful\"\n",
    "print(str10.find(\"popular\"))  # Find position of \"popular\"\n",
    "print(\"power\" in str10)  # Check if \"power\" exists\n",
    "print(str10.count(\"p\"))  # Count occurrences of \"p\""
   ]
  }
 ],
 "metadata": {
  "kernelspec": {
   "display_name": "Python 3 (ipykernel)",
   "language": "python",
   "name": "python3"
  },
  "language_info": {
   "codemirror_mode": {
    "name": "ipython",
    "version": 3
   },
   "file_extension": ".py",
   "mimetype": "text/x-python",
   "name": "python",
   "nbconvert_exporter": "python",
   "pygments_lexer": "ipython3",
   "version": "3.12.7"
  }
 },
 "nbformat": 4,
 "nbformat_minor": 5
}
