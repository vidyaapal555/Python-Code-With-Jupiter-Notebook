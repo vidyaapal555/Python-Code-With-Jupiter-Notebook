{
 "cells": [
  {
   "cell_type": "markdown",
   "id": "dc8eda73-79a6-467c-87e5-e1b6d9bd0bd6",
   "metadata": {},
   "source": [
    "### Python Sets - Practice Questions"
   ]
  },
  {
   "cell_type": "markdown",
   "id": "733e2082-0982-486f-9f00-07e5b1b9a8b7",
   "metadata": {},
   "source": [
    "### 1. Create a set named fruits containing \"apple\", \"banana\", and \"cherry\"."
   ]
  },
  {
   "cell_type": "code",
   "execution_count": 1,
   "id": "95e86adf-53a5-4515-a645-5b6cb78410ea",
   "metadata": {},
   "outputs": [
    {
     "name": "stdout",
     "output_type": "stream",
     "text": [
      "{'banana', 'apple', 'cherry'}\n"
     ]
    }
   ],
   "source": [
    "fruits = {\"apple\", \"banana\", \"cherry\"}\n",
    "print(fruits)"
   ]
  },
  {
   "cell_type": "markdown",
   "id": "945b6c30-772c-4df5-8bd6-b218d3bbaf0c",
   "metadata": {},
   "source": [
    "### 2. Add \"orange\" to the fruits set."
   ]
  },
  {
   "cell_type": "code",
   "execution_count": 2,
   "id": "bab99d44-058b-41d7-966e-496788246f6b",
   "metadata": {},
   "outputs": [
    {
     "name": "stdout",
     "output_type": "stream",
     "text": [
      "{'banana', 'apple', 'cherry', 'orange'}\n"
     ]
    }
   ],
   "source": [
    "fruits = {\"apple\", \"banana\", \"cherry\"}\n",
    "fruits.add(\"orange\")\n",
    "print(fruits)"
   ]
  },
  {
   "cell_type": "markdown",
   "id": "effab02f-ba4f-4ca8-99a7-e71b8e349f63",
   "metadata": {},
   "source": [
    "### 3. Remove \"banana\" from the fruits set."
   ]
  },
  {
   "cell_type": "code",
   "execution_count": 3,
   "id": "164668e6-39f3-4050-8e78-fd4642169f90",
   "metadata": {},
   "outputs": [
    {
     "name": "stdout",
     "output_type": "stream",
     "text": [
      "{'apple', 'cherry', 'orange'}\n"
     ]
    }
   ],
   "source": [
    "fruits = {\"apple\", \"banana\", \"cherry\", \"orange\"}\n",
    "fruits.remove(\"banana\")\n",
    "print(fruits)"
   ]
  },
  {
   "cell_type": "markdown",
   "id": "15f011bb-80ed-49bf-a9d4-4255b1afc8dd",
   "metadata": {},
   "source": [
    "### 4. Create two sets:\n",
    "A = {1, 2, 3, 4, 5} B = {4, 5, 6, 7, 8} Find the union of A and B."
   ]
  },
  {
   "cell_type": "code",
   "execution_count": 4,
   "id": "0481e52e-f2cd-462d-9ed2-f5bed0da73d5",
   "metadata": {},
   "outputs": [
    {
     "name": "stdout",
     "output_type": "stream",
     "text": [
      "{1, 2, 3, 4, 5, 6, 7, 8}\n"
     ]
    }
   ],
   "source": [
    "# Creating two sets A and B\n",
    "A = {1, 2, 3, 4, 5}\n",
    "B = {4, 5, 6, 7, 8}\n",
    "# Finding the union of A and B\n",
    "union_set = A.union(B)  # union_set = A | B\n",
    "print(union_set)"
   ]
  },
  {
   "cell_type": "markdown",
   "id": "d8e1684a-2063-4ef7-84ff-d1b479b537dc",
   "metadata": {},
   "source": [
    "### 5. Find the intersection of A and B."
   ]
  },
  {
   "cell_type": "code",
   "execution_count": 5,
   "id": "fd068aa2-4131-4381-bd18-f72a504f0db8",
   "metadata": {},
   "outputs": [
    {
     "name": "stdout",
     "output_type": "stream",
     "text": [
      "{4, 5}\n"
     ]
    }
   ],
   "source": [
    "# Creating two sets A and B\n",
    "A = {1, 2, 3, 4, 5}\n",
    "B = {4, 5, 6, 7, 8}\n",
    "# Finding the intersection of A and B\n",
    "intersection_set = A.intersection(B) # intersection_set = A & B\n",
    "print(intersection_set)"
   ]
  },
  {
   "cell_type": "markdown",
   "id": "4e08912c-e960-42de-98ef-2e1815091385",
   "metadata": {},
   "source": [
    "### 6. Find the difference between A and B."
   ]
  },
  {
   "cell_type": "code",
   "execution_count": 6,
   "id": "cd8983f1-acc0-403a-9619-162e77cf9245",
   "metadata": {},
   "outputs": [
    {
     "name": "stdout",
     "output_type": "stream",
     "text": [
      "{1, 2, 3}\n"
     ]
    }
   ],
   "source": [
    "# Creating two sets A and B\n",
    "A = {1, 2, 3, 4, 5}\n",
    "B = {4, 5, 6, 7, 8}\n",
    "# Finding the difference between A and B (elements in A but not in B)\n",
    "difference_set = A.difference(B) # difference_set = A - B\n",
    "print(difference_set)"
   ]
  },
  {
   "cell_type": "markdown",
   "id": "36c8bbad-3dc1-4b5b-8f9a-8f1d49946037",
   "metadata": {},
   "source": [
    "### 7. Find the symmetric difference between A and B."
   ]
  },
  {
   "cell_type": "code",
   "execution_count": 7,
   "id": "043b734a-6f63-4276-93e0-6492e9913c4a",
   "metadata": {},
   "outputs": [
    {
     "name": "stdout",
     "output_type": "stream",
     "text": [
      "{1, 2, 3, 6, 7, 8}\n"
     ]
    }
   ],
   "source": [
    "# Creating two sets A and B\n",
    "A = {1, 2, 3, 4, 5}\n",
    "B = {4, 5, 6, 7, 8}\n",
    "# Finding the symmetric difference between A and B\n",
    "symmetric_difference_set = A.symmetric_difference(B) # symmetric_difference_set = A ^ B\n",
    "print(symmetric_difference_set)"
   ]
  },
  {
   "cell_type": "markdown",
   "id": "1f8c342c-238f-4e5a-8e71-f1669b25a18f",
   "metadata": {},
   "source": [
    "### 8. Check if A is a subset of {1, 2, 3, 4, 5, 6, 7, 8, 9}."
   ]
  },
  {
   "cell_type": "code",
   "execution_count": 8,
   "id": "d9b54cd0-1d51-4aae-8210-b45ccd6de332",
   "metadata": {},
   "outputs": [
    {
     "name": "stdout",
     "output_type": "stream",
     "text": [
      "True\n"
     ]
    }
   ],
   "source": [
    "# Creating set A\n",
    "A = {1, 2, 3, 4, 5}\n",
    "B = {1, 2, 3, 4, 5, 6, 7, 8, 9}\n",
    "# Checking if A is a subset of B\n",
    "is_subset = A.issubset(B) # is_subset = A <= B\n",
    "print(is_subset)"
   ]
  },
  {
   "cell_type": "markdown",
   "id": "2a903d31-ef07-46de-b150-f94f39b2c278",
   "metadata": {},
   "source": [
    "### 9. Check if {4, 5} is a subset of A."
   ]
  },
  {
   "cell_type": "code",
   "execution_count": 9,
   "id": "4ce72a1b-7338-4c94-b81b-33f7abee2d4f",
   "metadata": {},
   "outputs": [
    {
     "name": "stdout",
     "output_type": "stream",
     "text": [
      "True\n"
     ]
    }
   ],
   "source": [
    "# Creating set A\n",
    "A = {1, 2, 3, 4, 5}\n",
    "subset_to_check = {4, 5}\n",
    "# Checking if {4, 5} is a subset of A\n",
    "is_subset = subset_to_check.issubset(A) # is_subset = subset_to_check <= A\n",
    "print(is_subset)"
   ]
  },
  {
   "cell_type": "markdown",
   "id": "c4058a34-ba71-4a5f-8848-a6f732753ec6",
   "metadata": {},
   "source": [
    "### 10. Create an empty set and check its type."
   ]
  },
  {
   "cell_type": "code",
   "execution_count": 10,
   "id": "dafaf262-ab76-407d-a867-eec77f1bdd0a",
   "metadata": {},
   "outputs": [
    {
     "name": "stdout",
     "output_type": "stream",
     "text": [
      "<class 'set'>\n"
     ]
    }
   ],
   "source": [
    "empty_set = set()\n",
    "print(type(empty_set))"
   ]
  },
  {
   "cell_type": "markdown",
   "id": "192a5f8d-84bb-4e5b-ab9f-4394e69b5479",
   "metadata": {},
   "source": [
    "### 11. Convert the list [1, 2, 3, 1, 2, 4, 5, 6, 5] into a set and print the result."
   ]
  },
  {
   "cell_type": "code",
   "execution_count": 11,
   "id": "6121a5ab-a030-4860-a37b-af0681959ff4",
   "metadata": {},
   "outputs": [
    {
     "name": "stdout",
     "output_type": "stream",
     "text": [
      "{1, 2, 3, 4, 5, 6}\n"
     ]
    }
   ],
   "source": [
    "list_values = [1, 2, 3, 1, 2, 4, 5, 6, 5]\n",
    "# Converting the list into a set\n",
    "unique_set = set(list_values)\n",
    "print(unique_set)"
   ]
  },
  {
   "cell_type": "markdown",
   "id": "fea7dd44-ecfc-4d71-9d4c-94128f4a355a",
   "metadata": {},
   "source": [
    "### 12. Iterate over a set containing {\"Python\", \"Java\", \"C++\"} and print each element."
   ]
  },
  {
   "cell_type": "code",
   "execution_count": 12,
   "id": "15ce62fa-970b-4310-9db7-7c33882e9394",
   "metadata": {},
   "outputs": [
    {
     "name": "stdout",
     "output_type": "stream",
     "text": [
      "C++\n",
      "Java\n",
      "Python\n"
     ]
    }
   ],
   "source": [
    "languages = {\"Python\", \"Java\", \"C++\"}\n",
    "# Iterating over the set and printing each element\n",
    "for language in languages:\n",
    "    print(language)"
   ]
  }
 ],
 "metadata": {
  "kernelspec": {
   "display_name": "Python 3 (ipykernel)",
   "language": "python",
   "name": "python3"
  },
  "language_info": {
   "codemirror_mode": {
    "name": "ipython",
    "version": 3
   },
   "file_extension": ".py",
   "mimetype": "text/x-python",
   "name": "python",
   "nbconvert_exporter": "python",
   "pygments_lexer": "ipython3",
   "version": "3.12.7"
  }
 },
 "nbformat": 4,
 "nbformat_minor": 5
}
