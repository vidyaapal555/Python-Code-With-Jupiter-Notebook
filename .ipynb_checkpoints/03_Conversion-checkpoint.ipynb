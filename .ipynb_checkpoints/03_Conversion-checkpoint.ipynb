{
 "cells": [
  {
   "cell_type": "code",
   "execution_count": 1,
   "id": "e16ae1ad-bd0a-4998-be30-1bca3c6268b4",
   "metadata": {},
   "outputs": [
    {
     "name": "stdout",
     "output_type": "stream",
     "text": [
      "<class 'float'>\n",
      "<class 'int'>\n",
      "<class 'complex'> (12+0j)\n"
     ]
    }
   ],
   "source": [
    "a = 12\n",
    "b = float(a)\n",
    "print(type(b))\n",
    "\n",
    "b = int(a)\n",
    "print(type(b))\n",
    "\n",
    "b = complex(a)\n",
    "print(type(b), b)"
   ]
  },
  {
   "cell_type": "markdown",
   "id": "20185891-2ba5-44b1-ab8f-5ae8be243ffa",
   "metadata": {},
   "source": [
    "### Question 1: What is the difference between implicit and explicit type conversion?"
   ]
  },
  {
   "cell_type": "markdown",
   "id": "f37b3d0a-7c01-470d-abf5-38ddd0e2a2e4",
   "metadata": {},
   "source": [
    "***Implicit type conversions***\n",
    "In implicit type conversion, Python converts data from a smaller and less precise type to a larger and more precise type to avoid loss of data."
   ]
  },
  {
   "cell_type": "code",
   "execution_count": 2,
   "id": "e142be33-9397-4b2a-8671-b83e1c5ef461",
   "metadata": {},
   "outputs": [
    {
     "name": "stdout",
     "output_type": "stream",
     "text": [
      "15.9\n",
      "14.5\n"
     ]
    }
   ],
   "source": [
    "#Example 1\n",
    "a=10\n",
    "b=5.9\n",
    "print(a+b)\n",
    "\n",
    "#Example 2\n",
    "a = 10\n",
    "b = 4.5\n",
    "c = a + b  # Here, 'a' gets converted into a floating point number\n",
    "print(c)"
   ]
  },
  {
   "cell_type": "markdown",
   "id": "de9d2cf6-225c-4a0d-906b-d868e329da46",
   "metadata": {},
   "source": [
    "***Explicit type conversions***\n",
    "Explicit type conversion is done by programmer using built in method like int float complex implicit type conersion."
   ]
  },
  {
   "cell_type": "code",
   "execution_count": 3,
   "id": "4de70734-51ec-48a3-b09a-7c3b658c67a0",
   "metadata": {},
   "outputs": [
    {
     "name": "stdout",
     "output_type": "stream",
     "text": [
      "10\n",
      "101 10.0\n"
     ]
    }
   ],
   "source": [
    "#Example 1\n",
    "a=10.3\n",
    "print (int(a))\n",
    "\n",
    "#Example 2\n",
    "num1 = int(\"101\")\n",
    "num2 = float(10)\n",
    "print(num1, num2)"
   ]
  },
  {
   "cell_type": "markdown",
   "id": "f113b6c1-60bc-4373-a451-52626f5c66b5",
   "metadata": {},
   "source": [
    "### Question 2: Which function would you use to convert a string \"123\" to an integer?"
   ]
  },
  {
   "cell_type": "code",
   "execution_count": 4,
   "id": "78733abe-b7eb-4d88-ac44-425ab76516ce",
   "metadata": {},
   "outputs": [],
   "source": [
    "#Example 1\n",
    "a=\"123\"\n",
    "b=int(a)\n",
    "#Example 2\n",
    "num3 = int(\"123\")"
   ]
  },
  {
   "cell_type": "markdown",
   "id": "0ecbd026-1e54-4881-b6fa-6261d9340d69",
   "metadata": {},
   "source": [
    "### Question 3: Explain what happens when you convert a floating-point number to an integer.\n",
    "When you convert a floating-point number to an integer, it loses its decimal part, effectively truncating it."
   ]
  },
  {
   "cell_type": "code",
   "execution_count": 5,
   "id": "2d226f10-74fa-48fc-9e88-ffed66e6089c",
   "metadata": {},
   "outputs": [
    {
     "name": "stdout",
     "output_type": "stream",
     "text": [
      "1\n",
      "10\n"
     ]
    }
   ],
   "source": [
    "#Example 1\n",
    "num1 =1.2\n",
    "print(int(num1))\n",
    "\n",
    "#Example 2\n",
    "num4 = 10.34\n",
    "num5 = int(num4)\n",
    "print(num5)"
   ]
  },
  {
   "cell_type": "markdown",
   "id": "6b808eed-6888-426d-ab35-6178518bc885",
   "metadata": {},
   "source": [
    "### Question 4: Predict the output."
   ]
  },
  {
   "cell_type": "code",
   "execution_count": 6,
   "id": "48a0c3e9-545d-4dcd-b4b5-088f89de8e16",
   "metadata": {},
   "outputs": [
    {
     "name": "stdout",
     "output_type": "stream",
     "text": [
      "1\n",
      "5\n"
     ]
    }
   ],
   "source": [
    "#Example 1\n",
    "x=1.2\n",
    "y=int(x)\n",
    "print(y)\n",
    "\n",
    "#Example 2\n",
    "x = 5.7\n",
    "y = int(x)\n",
    "print(y)"
   ]
  },
  {
   "cell_type": "markdown",
   "id": "aabc1aac-d8e4-4f56-aecc-723fed188ec7",
   "metadata": {},
   "source": [
    "### Question 5: What will be the output of the following code?"
   ]
  },
  {
   "cell_type": "code",
   "execution_count": 7,
   "id": "5b9f2c42-6ead-4494-803d-593ce48abbe4",
   "metadata": {},
   "outputs": [
    {
     "name": "stdout",
     "output_type": "stream",
     "text": [
      "35\n"
     ]
    }
   ],
   "source": [
    "num_str = \"25\"\n",
    "num = int(num_str)\n",
    "print(num + 10)"
   ]
  },
  {
   "cell_type": "markdown",
   "id": "1bfe2867-89bf-4903-972d-dfbba4f3564f",
   "metadata": {},
   "source": [
    "### Question 6: Identify the error in this code and fix it"
   ]
  },
  {
   "cell_type": "code",
   "execution_count": 8,
   "id": "ee33e76d-1c55-4877-a08b-52367e867503",
   "metadata": {},
   "outputs": [
    {
     "name": "stdout",
     "output_type": "stream",
     "text": [
      "50\n"
     ]
    }
   ],
   "source": [
    "price = \"30.5\"\n",
    "total = int(float(price)) + 20\n",
    "print (total)"
   ]
  },
  {
   "cell_type": "markdown",
   "id": "a4343afb-6a7e-4093-a8d4-49a27c1c1115",
   "metadata": {},
   "source": [
    "### Question 7: Convert a list of strings to a list of integers"
   ]
  },
  {
   "cell_type": "code",
   "execution_count": 9,
   "id": "3e7a931a-c7f5-4ada-a90e-51d78daeefb7",
   "metadata": {},
   "outputs": [
    {
     "name": "stdout",
     "output_type": "stream",
     "text": [
      "[1, 2, 3, 4]\n"
     ]
    }
   ],
   "source": [
    "list1 = [\"1\",\"2\",\"3\",\"4\"]\n",
    "int_list1 =[]\n",
    "for i in range(len(list1)):\n",
    "    int_list1.append(int(list1[i]))\n",
    "print(int_list1)"
   ]
  }
 ],
 "metadata": {
  "kernelspec": {
   "display_name": "Python 3 (ipykernel)",
   "language": "python",
   "name": "python3"
  },
  "language_info": {
   "codemirror_mode": {
    "name": "ipython",
    "version": 3
   },
   "file_extension": ".py",
   "mimetype": "text/x-python",
   "name": "python",
   "nbconvert_exporter": "python",
   "pygments_lexer": "ipython3",
   "version": "3.12.7"
  }
 },
 "nbformat": 4,
 "nbformat_minor": 5
}
