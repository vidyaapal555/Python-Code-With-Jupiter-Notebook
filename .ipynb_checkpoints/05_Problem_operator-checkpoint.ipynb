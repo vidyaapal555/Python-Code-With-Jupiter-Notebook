{
 "cells": [
  {
   "cell_type": "markdown",
   "id": "16126424-a168-4f44-ba34-742df62683de",
   "metadata": {},
   "source": [
    "### Question 1: What will be the output?"
   ]
  },
  {
   "cell_type": "code",
   "execution_count": 1,
   "id": "b1c01828-9c70-4ba4-8bbd-4450af5580cf",
   "metadata": {},
   "outputs": [
    {
     "name": "stdout",
     "output_type": "stream",
     "text": [
      "3\n",
      "3\n",
      "50625\n"
     ]
    }
   ],
   "source": [
    "a = 15\n",
    "b = 4\n",
    "print(a // b) # Floor division operator\n",
    "print(a % b)\n",
    "print(a ** b) # Exponentiation operator"
   ]
  },
  {
   "cell_type": "markdown",
   "id": "66c4f721-b922-4d87-8837-68d1ad81a8d2",
   "metadata": {},
   "source": [
    "### Question 2: Write a program to calculate the area of a circle given its radius. (Use the formula area = π * r²)"
   ]
  },
  {
   "cell_type": "code",
   "execution_count": 2,
   "id": "24e88147-5562-4ba1-870a-0f29ec7c2779",
   "metadata": {},
   "outputs": [
    {
     "name": "stdout",
     "output_type": "stream",
     "text": [
      "50.24\n"
     ]
    }
   ],
   "source": [
    "def find_area_of_circle(radius):\n",
    "    return 3.14 * (radius ** 2)\n",
    "\n",
    "print(find_area_of_circle(4))"
   ]
  },
  {
   "cell_type": "markdown",
   "id": "7236f1b4-738a-494b-bed0-13a383699f4f",
   "metadata": {},
   "source": [
    "### Question 3: Predict the output:"
   ]
  },
  {
   "cell_type": "code",
   "execution_count": 3,
   "id": "16fcad47-f04a-4127-b406-12156c208d14",
   "metadata": {},
   "outputs": [
    {
     "name": "stdout",
     "output_type": "stream",
     "text": [
      "False\n",
      "True\n",
      "True\n"
     ]
    }
   ],
   "source": [
    "x = 10\n",
    "y = 20\n",
    "print(x > y)\n",
    "print(x <= y)\n",
    "print(x == 10)"
   ]
  },
  {
   "cell_type": "markdown",
   "id": "59677ab6-0d55-4f14-ba8d-71be16544576",
   "metadata": {},
   "source": [
    "### Question 4: What will be the output?"
   ]
  },
  {
   "cell_type": "code",
   "execution_count": 4,
   "id": "086525ca-636d-487e-b407-264d31ec2bd7",
   "metadata": {},
   "outputs": [
    {
     "name": "stdout",
     "output_type": "stream",
     "text": [
      "False\n",
      "True\n",
      "False\n"
     ]
    }
   ],
   "source": [
    "a = True\n",
    "b = False\n",
    "print(a and b)\n",
    "print(a or b)\n",
    "print(not a)"
   ]
  },
  {
   "cell_type": "markdown",
   "id": "c87dc559-81c7-4e33-85fc-b14a33602b49",
   "metadata": {},
   "source": [
    "### Question 5: Convert 5 and 3 to binary and calculate 5 & 3, 5 | 3, and 5 ^ 3."
   ]
  },
  {
   "cell_type": "code",
   "execution_count": 5,
   "id": "b44bb118-a6ba-4338-a701-b66119ab05db",
   "metadata": {},
   "outputs": [
    {
     "name": "stdout",
     "output_type": "stream",
     "text": [
      "Binary of 5 is 0b101\n",
      "Binary of 3 is 0b11\n",
      "Bitwise OR between 5, 3 is 7\n",
      "Bitwise AND between 5, 3 is 1\n",
      "Bitwise XOR between 5, 3 is 6\n"
     ]
    }
   ],
   "source": [
    "binary_5 = bin(5)\n",
    "binary_3 = bin(3)\n",
    "\n",
    "print(f\"Binary of 5 is {binary_5}\")\n",
    "print(f\"Binary of 3 is {binary_3}\")\n",
    "\n",
    "r1 = 5 | 3\n",
    "r2 = 5 & 3\n",
    "r3 = 5 ^ 3\n",
    "\n",
    "print(f\"Bitwise OR between 5, 3 is {r1}\")\n",
    "print(f\"Bitwise AND between 5, 3 is {r2}\")\n",
    "print(f\"Bitwise XOR between 5, 3 is {r3}\")"
   ]
  },
  {
   "cell_type": "markdown",
   "id": "45206cf1-4389-4e7f-830d-707be0ca0220",
   "metadata": {},
   "source": [
    "### Question 6: What does 5 << 2 and 10 >> 1 mean? Calculate their results."
   ]
  },
  {
   "cell_type": "code",
   "execution_count": 9,
   "id": "ea03ee4b-85d7-4409-8077-75cb4c42cde1",
   "metadata": {},
   "outputs": [
    {
     "name": "stdout",
     "output_type": "stream",
     "text": [
      "20\n",
      "5\n"
     ]
    }
   ],
   "source": [
    "print(5 << 2)  # Binary representation of 5 is 0101, left shift by 2: 00010100 = 20\n",
    "print(10 >> 1) # Binary representation of 10 is 1010, right shift by 1: 0101 = 5\n",
    "\n",
    "#Using formula:\n",
    "#digit << 5 = digit * 2**n\n",
    "#digit >> 6 = digit / 2**n"
   ]
  },
  {
   "cell_type": "markdown",
   "id": "d1ea003a-3afa-4ecf-9fbe-23528ac4f765",
   "metadata": {},
   "source": [
    "### Question 7: Write a program that uses +=, -=, *=, and /= to modify a variable."
   ]
  },
  {
   "cell_type": "code",
   "execution_count": 10,
   "id": "05cbdcdf-9231-4913-944e-5a69e55f9139",
   "metadata": {},
   "outputs": [
    {
     "name": "stdout",
     "output_type": "stream",
     "text": [
      "12\n",
      "0.0\n"
     ]
    }
   ],
   "source": [
    "#Example 1\n",
    "def performOpt(input):\n",
    "    input +=12\n",
    "    input -=10\n",
    "    input *=1\n",
    "    input /-10\n",
    "    return input\n",
    "print(performOpt(10))\n",
    "\n",
    "#Example 2\n",
    "def modify_value(value):\n",
    "    value += value\n",
    "    value /= value\n",
    "    value -= value\n",
    "    value *= value\n",
    "    return value\n",
    "print(modify_value(20))"
   ]
  },
  {
   "cell_type": "markdown",
   "id": "951bae92-cdc8-42d0-839f-18754e88e344",
   "metadata": {},
   "source": [
    "### Question 8: What will be the output?"
   ]
  },
  {
   "cell_type": "code",
   "execution_count": 11,
   "id": "7802dab7-4be7-472e-860b-9f3d661aa358",
   "metadata": {},
   "outputs": [
    {
     "name": "stdout",
     "output_type": "stream",
     "text": [
      "True\n",
      "False\n",
      "True\n",
      "True\n"
     ]
    }
   ],
   "source": [
    "a = [1, 2, 3]\n",
    "b = a\n",
    "c = [1, 2, 3]\n",
    "print(a is b)\n",
    "print(a is c)\n",
    "print(2 in a)\n",
    "print(4 not in a)"
   ]
  },
  {
   "cell_type": "markdown",
   "id": "1c4a1ec4-cbb3-4029-b98f-c5d8f056de14",
   "metadata": {},
   "source": [
    "### Question 9: Write a Python program that takes an integer input and:\n",
    "Checks if it’s even or odd using the modulus operator.\n",
    "\n",
    "Verifies if the number is between 10 and 50 using logical operators.\n",
    "\n",
    "Uses a bitwise operator to multiply the number by 4."
   ]
  },
  {
   "cell_type": "code",
   "execution_count": 12,
   "id": "2f9a5a4e-0a34-4109-99a1-e7241f88b8bc",
   "metadata": {},
   "outputs": [
    {
     "name": "stdout",
     "output_type": "stream",
     "text": [
      "It is an even number\n",
      "The number is greater than 10 and less than 50\n",
      "48\n"
     ]
    }
   ],
   "source": [
    "def ops_performer(input):\n",
    "    if input % 2 == 0:\n",
    "        print(\"It is an even number\")\n",
    "    else:\n",
    "        print(\"It is an odd number\")\n",
    "\n",
    "    if 10 < input < 50:\n",
    "        print(\"The number is greater than 10 and less than 50\")\n",
    "\n",
    "    input = input << 2\n",
    "    print(input)\n",
    "\n",
    "ops_performer(12)"
   ]
  }
 ],
 "metadata": {
  "kernelspec": {
   "display_name": "Python 3 (ipykernel)",
   "language": "python",
   "name": "python3"
  },
  "language_info": {
   "codemirror_mode": {
    "name": "ipython",
    "version": 3
   },
   "file_extension": ".py",
   "mimetype": "text/x-python",
   "name": "python",
   "nbconvert_exporter": "python",
   "pygments_lexer": "ipython3",
   "version": "3.12.7"
  }
 },
 "nbformat": 4,
 "nbformat_minor": 5
}
