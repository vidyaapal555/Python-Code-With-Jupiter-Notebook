{
 "cells": [
  {
   "cell_type": "code",
   "execution_count": 1,
   "id": "b68219c9-3b4c-417d-81d6-224fe99f7fc8",
   "metadata": {},
   "outputs": [
    {
     "name": "stdout",
     "output_type": "stream",
     "text": [
      "<class 'complex'>\n",
      "<class 'int'>\n",
      "<class 'float'>\n",
      "[1, 2, True, [1, 2, 3], 'hat']\n",
      "(1, 2, 3)\n",
      "[1, 3, 5, 7, 9]\n",
      "{'name': 'ted', 'last': 'talks'}\n",
      "b'This is a string'\n",
      "{1, 2, 4, 33}\n"
     ]
    }
   ],
   "source": [
    "# Numeric data\n",
    "num1 = 12\n",
    "num2 = 2.33\n",
    "complexNum = 2 + 3j\n",
    "print(type(complexNum))\n",
    "print(type(num1))\n",
    "print(type(num2))\n",
    "\n",
    "# Text data\n",
    "st1 = \"Hello there\"\n",
    "\n",
    "# Boolean\n",
    "isTrue = True\n",
    "isHealthy = False\n",
    "\n",
    "# Sequenced data\n",
    "# 1. List\n",
    "mixList = [1,2,True,[1,2,3],\"hat\"]\n",
    "print(mixList)\n",
    "\n",
    "# 2. Tuple\n",
    "tuple1 = (1,2,3)\n",
    "print(tuple1)\n",
    "tuple2  = ((\"ping\",\"100\"),(\"org\",\"ff\"))\n",
    "\n",
    "# 3. Range\n",
    "r1 = range(1,10,2)\n",
    "print(list(r1))\n",
    "for i in r1:\n",
    "    i\n",
    "\n",
    "# 4. Dictionary\n",
    "dict1 = {\"name\":\"ted\",\"last\":\"talks\"}\n",
    "print(dict1)\n",
    "\n",
    "# 5. Converting string to bytes\n",
    "str1 = \"This is a string\"\n",
    "arr1 = bytes(str1, 'utf-8')\n",
    "print(arr1)\n",
    "arr2 = bytes(str1, 'utf-16')\n",
    "#print(arr2)\n",
    "\n",
    "#Creating bytes of given size\n",
    "#bytestr = bytes(4)\n",
    "#print(bytestr)\n",
    "\n",
    "# 6. Set\n",
    "numSet = {1,2,33,4,1,1}\n",
    "print(numSet)"
   ]
  },
  {
   "cell_type": "markdown",
   "id": "495eb815-1ef0-4504-a9d7-ab14d57f1cc8",
   "metadata": {},
   "source": [
    "### 1. What are the different data types in Python? Give examples of each."
   ]
  },
  {
   "cell_type": "code",
   "execution_count": 2,
   "id": "9ee94b14-a4c3-4354-9db6-2ab74e9e8739",
   "metadata": {},
   "outputs": [],
   "source": [
    "#Example 1\n",
    "a1 = \"this is string\" # string\n",
    "a2 = 12 # number\n",
    "a3 = None # use as a placeholder \n",
    "a4 = [1,2,3,4] # list\n",
    "a5 = {\"name\":\"vishal\",\"partner\":\"unknown\"} # dictionary\n",
    "a6 = range(1,5,1) # range\n",
    "a7 = {1,2,3,5,2,2,3} # set\n",
    "a8 = True # boolean\n",
    "a9 = (\"stuff\",\"needs\",\"to\",\"get\",\"done\") # tuple\n",
    "\n",
    "#Example 2\n",
    "#Primitive Datatypes\n",
    "a1 = 12 #integer\n",
    "a2 = 1.2 #float\n",
    "a3 = \"jake\" #string\n",
    "a4 = True #Boolean\n",
    "a5 = 1+2j  #complex\n",
    "a6 = {1,2,3,4} #set\n",
    "a7 = [\"reddy\", True, 12] #list\n",
    "a8 = {\"name\":\"virat\",\"sport\":\"cricket\"} #dictionary\n",
    "a9 = None\n",
    "a10 = (1, 2,3)#tuple"
   ]
  },
  {
   "cell_type": "markdown",
   "id": "bee31252-8271-4f9d-a59f-186c537b79ed",
   "metadata": {},
   "source": [
    "### 2. Identify the data type of the following:"
   ]
  },
  {
   "cell_type": "code",
   "execution_count": 3,
   "id": "a31e7521-76c6-42bb-9b46-06ae1126a4bd",
   "metadata": {},
   "outputs": [
    {
     "name": "stdout",
     "output_type": "stream",
     "text": [
      "<class 'int'>\n",
      "<class 'float'>\n",
      "<class 'str'>\n",
      "<class 'bool'>\n",
      "<class 'list'>\n",
      "<class 'dict'>\n"
     ]
    }
   ],
   "source": [
    "print(type(42))  # int\n",
    "print(type(3.14))  # float\n",
    "print(type('Hello, world!'))  # str\n",
    "print(type(True))  # bool\n",
    "print(type([1, 2, 3]))  # list\n",
    "print(type({ \"name\": \"Alice\", \"age\": 25 }))  # dict"
   ]
  },
  {
   "cell_type": "markdown",
   "id": "b22b3d61-e409-4ae6-961c-303718d4bfdc",
   "metadata": {},
   "source": [
    "### 3. How do you convert a string '123' into an integer?"
   ]
  },
  {
   "cell_type": "code",
   "execution_count": 4,
   "id": "b8e23567-4771-4c7d-bdf7-c96bdb5fc07c",
   "metadata": {},
   "outputs": [
    {
     "name": "stdout",
     "output_type": "stream",
     "text": [
      "123\n"
     ]
    },
    {
     "name": "stdin",
     "output_type": "stream",
     "text": [
      "Enter the number 54\n"
     ]
    }
   ],
   "source": [
    "str1 = \"123\"\n",
    "num1 = int(str1)\n",
    "print(num1)\n",
    "num2 = int(input(\"Enter the number\"))"
   ]
  },
  {
   "cell_type": "code",
   "execution_count": 5,
   "id": "1f9deef2-233b-486c-ac72-230b1c178eb2",
   "metadata": {},
   "outputs": [
    {
     "name": "stdout",
     "output_type": "stream",
     "text": [
      "<class 'int'>\n"
     ]
    }
   ],
   "source": [
    "a = \"123\"\n",
    "b = int(a)\n",
    "print(type(b))"
   ]
  },
  {
   "cell_type": "markdown",
   "id": "520ccba8-52d1-41a1-8f4f-c5485cb73353",
   "metadata": {},
   "source": [
    "### 4. Write a Python program to check if a given variable is of type float."
   ]
  },
  {
   "cell_type": "code",
   "execution_count": 6,
   "id": "58381a7c-72ca-4fb8-8a99-a7d003169f67",
   "metadata": {},
   "outputs": [
    {
     "name": "stdout",
     "output_type": "stream",
     "text": [
      "True\n"
     ]
    }
   ],
   "source": [
    "def checkTypeIsFloat(input):\n",
    "    return type(input) == float\n",
    "\n",
    "result = checkTypeIsFloat(3.4)\n",
    "print(result)"
   ]
  },
  {
   "cell_type": "code",
   "execution_count": 7,
   "id": "c6d090d8-21ed-4920-b5e9-3b533584f022",
   "metadata": {},
   "outputs": [
    {
     "data": {
      "text/plain": [
       "True"
      ]
     },
     "execution_count": 7,
     "metadata": {},
     "output_type": "execute_result"
    }
   ],
   "source": [
    "def isFloat(input):\n",
    "    return type(input) == float\n",
    "isFloat(1.2)"
   ]
  },
  {
   "cell_type": "markdown",
   "id": "0bb62260-6327-407b-8d21-10ec2224a660",
   "metadata": {},
   "source": [
    "### 5. Convert the list [1, 2, 3, 4] into a tuple and a set."
   ]
  },
  {
   "cell_type": "code",
   "execution_count": 8,
   "id": "1a3c0347-497f-41dc-b902-9bacff0e6bc6",
   "metadata": {},
   "outputs": [
    {
     "name": "stdout",
     "output_type": "stream",
     "text": [
      "(1, 2, 3, 4)\n",
      "{1, 2, 3, 4}\n"
     ]
    }
   ],
   "source": [
    "l1 = [1, 2, 3, 4]\n",
    "liTup = tuple(l1)\n",
    "liSet = set(l1)\n",
    "\n",
    "print(liTup)\n",
    "print(liSet)"
   ]
  },
  {
   "cell_type": "code",
   "execution_count": 9,
   "id": "5f4be8cb-c7fe-40df-939d-19abcfc29a56",
   "metadata": {},
   "outputs": [
    {
     "name": "stdout",
     "output_type": "stream",
     "text": [
      "<class 'tuple'>\n",
      "<class 'set'>\n"
     ]
    }
   ],
   "source": [
    "list1 = [1,2,3,4]\n",
    "tuple1 = tuple(list1)\n",
    "print(type(tuple1))\n",
    "set1 = set(list1)\n",
    "print(type(set1))"
   ]
  },
  {
   "cell_type": "markdown",
   "id": "327ea9de-fe16-4787-ac6d-474e7885addc",
   "metadata": {},
   "source": [
    "### 6. Write a Python script to calculate the length of a string provided by the user."
   ]
  },
  {
   "cell_type": "code",
   "execution_count": 10,
   "id": "a5114c7c-2874-401a-bec4-1abd070dab50",
   "metadata": {},
   "outputs": [
    {
     "name": "stdout",
     "output_type": "stream",
     "text": [
      "10\n"
     ]
    }
   ],
   "source": [
    "def cal_length_of_str(input):\n",
    "    return len(input)\n",
    "\n",
    "print(cal_length_of_str(\"here we go\"))"
   ]
  },
  {
   "cell_type": "code",
   "execution_count": 11,
   "id": "4a71f609-9981-4ea1-9961-cca6c4b0bc55",
   "metadata": {},
   "outputs": [
    {
     "name": "stdout",
     "output_type": "stream",
     "text": [
      "3\n"
     ]
    }
   ],
   "source": [
    "def calculateLen(input):\n",
    "    return len(input)\n",
    "print(calculateLen(\"123\"))"
   ]
  },
  {
   "cell_type": "markdown",
   "id": "5f4b3b51-e84c-4166-89f9-cd290b6f6fae",
   "metadata": {},
   "source": [
    "### 7. Create a dictionary to store details of a student (name, age, grade). Retrieve the age from the dictionary."
   ]
  },
  {
   "cell_type": "code",
   "execution_count": 12,
   "id": "8e22f21b-4b4f-4a01-8693-a00720bee182",
   "metadata": {},
   "outputs": [
    {
     "name": "stdout",
     "output_type": "stream",
     "text": [
      "12\n"
     ]
    }
   ],
   "source": [
    "stud1 = {\n",
    "    \"name\": \"lexy\",\n",
    "    \"age\": 12,\n",
    "    \"grade\": \"A\"\n",
    "}\n",
    "\n",
    "print(stud1[\"age\"])"
   ]
  },
  {
   "cell_type": "code",
   "execution_count": 13,
   "id": "b8d41e8b-181a-45e3-bc8e-b999825d0695",
   "metadata": {},
   "outputs": [
    {
     "name": "stdout",
     "output_type": "stream",
     "text": [
      "Redd\n"
     ]
    }
   ],
   "source": [
    "stud1 = {\n",
    "    \"name\":\"Redd\",\n",
    "    \"age\":12,\n",
    "    \"grade\":\"A\"\n",
    "}\n",
    "print(stud1[\"name\"])"
   ]
  },
  {
   "cell_type": "markdown",
   "id": "f2ab3530-9967-42fa-a651-db55736250dc",
   "metadata": {},
   "source": [
    "### 8. Write a program to check if a variable is mutable or immutable."
   ]
  },
  {
   "cell_type": "code",
   "execution_count": 14,
   "id": "01fdcd01-0693-4f7d-b4ca-17c2dee4cac7",
   "metadata": {},
   "outputs": [
    {
     "name": "stdout",
     "output_type": "stream",
     "text": [
      "True\n"
     ]
    }
   ],
   "source": [
    "def checkMutability(input):\n",
    "    return type(input) == tuple or type(input) == str\n",
    "\n",
    "print(checkMutability((\"hey\", \"there\")))"
   ]
  },
  {
   "cell_type": "code",
   "execution_count": 15,
   "id": "c81811ff-8f76-4023-ac86-5c6da4d2be07",
   "metadata": {},
   "outputs": [
    {
     "data": {
      "text/plain": [
       "True"
      ]
     },
     "execution_count": 15,
     "metadata": {},
     "output_type": "execute_result"
    }
   ],
   "source": [
    "def isImmutable(input):\n",
    "    return type(input)==tuple or type(input)==str\n",
    "\n",
    "isImmutable((1,2,3))"
   ]
  },
  {
   "cell_type": "markdown",
   "id": "2417036b-3c49-43bb-91c2-8224f2fc7e5f",
   "metadata": {},
   "source": [
    "### 9. Convert the integer 10 to binary, octal, and hexadecimal formats."
   ]
  },
  {
   "cell_type": "code",
   "execution_count": 16,
   "id": "06f89f73-b5a5-4a40-b7ad-d623a084f832",
   "metadata": {},
   "outputs": [
    {
     "name": "stdout",
     "output_type": "stream",
     "text": [
      "Binary format of 10 is 0b1010\n",
      "Octal format of 10 is 0o12\n",
      "Hexadecimal format of 10 is 0xa\n"
     ]
    }
   ],
   "source": [
    "num = 10\n",
    "\n",
    "binary = bin(num)\n",
    "print(f\"Binary format of {num} is {binary}\")\n",
    "\n",
    "octal = oct(num)\n",
    "print(f\"Octal format of {num} is {octal}\")\n",
    "\n",
    "hexadecimal = hex(num)\n",
    "print(f\"Hexadecimal format of {num} is {hexadecimal}\")"
   ]
  },
  {
   "cell_type": "code",
   "execution_count": 17,
   "id": "056e92a5-8627-4cc1-ac0a-60c56fa0359b",
   "metadata": {},
   "outputs": [
    {
     "name": "stdout",
     "output_type": "stream",
     "text": [
      "0b1010\n",
      "0o12\n",
      "0xa\n"
     ]
    }
   ],
   "source": [
    "test1 = 10\n",
    "print(bin(10))\n",
    "print(oct(10))\n",
    "print(hex(10))"
   ]
  },
  {
   "cell_type": "markdown",
   "id": "27d7b5b7-6e7c-4277-991d-f436389c7835",
   "metadata": {},
   "source": [
    "### 10. Write a Python program to swap two numbers using tuple unpacking."
   ]
  },
  {
   "cell_type": "code",
   "execution_count": 18,
   "id": "2542b434-17fa-44d0-a6fb-1142cc358f0c",
   "metadata": {},
   "outputs": [
    {
     "name": "stdout",
     "output_type": "stream",
     "text": [
      "12 10\n"
     ]
    }
   ],
   "source": [
    "a = 10\n",
    "b = 12\n",
    "a, b = b, a\n",
    "print(a, b)"
   ]
  }
 ],
 "metadata": {
  "kernelspec": {
   "display_name": "Python 3 (ipykernel)",
   "language": "python",
   "name": "python3"
  },
  "language_info": {
   "codemirror_mode": {
    "name": "ipython",
    "version": 3
   },
   "file_extension": ".py",
   "mimetype": "text/x-python",
   "name": "python",
   "nbconvert_exporter": "python",
   "pygments_lexer": "ipython3",
   "version": "3.12.7"
  }
 },
 "nbformat": 4,
 "nbformat_minor": 5
}
