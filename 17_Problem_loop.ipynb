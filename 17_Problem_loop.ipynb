{
 "cells": [
  {
   "cell_type": "markdown",
   "id": "249b4c64-9c7e-47d9-ad34-604c007b79dc",
   "metadata": {},
   "source": [
    "### Python Loops - Practice Questions"
   ]
  },
  {
   "cell_type": "markdown",
   "id": "8e94f1c8-b0b6-4566-a882-f9b3a622f213",
   "metadata": {},
   "source": [
    "### 1. Write a for loop to print numbers from 1 to 10."
   ]
  },
  {
   "cell_type": "code",
   "execution_count": 1,
   "id": "3851f391-0e56-4fc9-a281-055267df61e1",
   "metadata": {},
   "outputs": [
    {
     "name": "stdout",
     "output_type": "stream",
     "text": [
      "1\n",
      "2\n",
      "3\n",
      "4\n",
      "5\n",
      "6\n",
      "7\n",
      "8\n",
      "9\n",
      "10\n"
     ]
    }
   ],
   "source": [
    "for i in range(1, 11):\n",
    "    print(i)"
   ]
  },
  {
   "cell_type": "markdown",
   "id": "7b3f1fb4-263d-41bd-9a33-53d6f2c4516f",
   "metadata": {},
   "source": [
    "### 2. Write a while loop to print numbers from 10 to 1."
   ]
  },
  {
   "cell_type": "code",
   "execution_count": 2,
   "id": "86e3b84c-b71f-4488-8681-bcb1c6ac8394",
   "metadata": {},
   "outputs": [
    {
     "name": "stdout",
     "output_type": "stream",
     "text": [
      "10\n",
      "9\n",
      "8\n",
      "7\n",
      "6\n",
      "5\n",
      "4\n",
      "3\n",
      "2\n",
      "1\n"
     ]
    }
   ],
   "source": [
    "i = 10\n",
    "while i >= 1:\n",
    "    print(i)\n",
    "    i -= 1  # Decrease the value of i by 1 in each iteration"
   ]
  },
  {
   "cell_type": "markdown",
   "id": "cd519a5d-4e72-4680-9e14-5db03f6c778b",
   "metadata": {},
   "source": [
    "### 3. Write a loop to calculate the sum of the first 50 natural numbers."
   ]
  },
  {
   "cell_type": "code",
   "execution_count": 3,
   "id": "0dc4a28f-888c-4953-96bf-8cc492d32e57",
   "metadata": {},
   "outputs": [
    {
     "name": "stdout",
     "output_type": "stream",
     "text": [
      "The sum of the first 50 natural numbers is: 1275\n"
     ]
    }
   ],
   "source": [
    "sum_of_numbers = 0\n",
    "for i in range(1, 51):\n",
    "    sum_of_numbers += i  # Add each number to the sum\n",
    "print(\"The sum of the first 50 natural numbers is:\", sum_of_numbers)"
   ]
  },
  {
   "cell_type": "markdown",
   "id": "cb178966-8f02-4de0-9da6-783e74077d91",
   "metadata": {},
   "source": [
    "### 4. Write a loop that prints all even numbers between 1 and 50."
   ]
  },
  {
   "cell_type": "code",
   "execution_count": 4,
   "id": "376efc77-2910-4920-b054-60c548d391df",
   "metadata": {},
   "outputs": [
    {
     "name": "stdout",
     "output_type": "stream",
     "text": [
      "2\n",
      "4\n",
      "6\n",
      "8\n",
      "10\n",
      "12\n",
      "14\n",
      "16\n",
      "18\n",
      "20\n",
      "22\n",
      "24\n",
      "26\n",
      "28\n",
      "30\n",
      "32\n",
      "34\n",
      "36\n",
      "38\n",
      "40\n",
      "42\n",
      "44\n",
      "46\n",
      "48\n",
      "50\n"
     ]
    }
   ],
   "source": [
    "for i in range(2, 51, 2):  # Start at 2, go up to 50, and increment by 2\n",
    "    print(i)"
   ]
  },
  {
   "cell_type": "markdown",
   "id": "55d95ab3-f3da-4079-be6c-fd24417581d9",
   "metadata": {},
   "source": [
    "### 5. Write a loop that prints the multiplication table of a given number n."
   ]
  },
  {
   "cell_type": "code",
   "execution_count": 5,
   "id": "539b1ead-84d8-4bdf-858f-046fec7573b2",
   "metadata": {},
   "outputs": [
    {
     "name": "stdin",
     "output_type": "stream",
     "text": [
      "Enter the number to print the multiplication table:  12\n"
     ]
    },
    {
     "name": "stdout",
     "output_type": "stream",
     "text": [
      "12 x 1 = 12\n",
      "12 x 2 = 24\n",
      "12 x 3 = 36\n",
      "12 x 4 = 48\n",
      "12 x 5 = 60\n",
      "12 x 6 = 72\n",
      "12 x 7 = 84\n",
      "12 x 8 = 96\n",
      "12 x 9 = 108\n",
      "12 x 10 = 120\n"
     ]
    }
   ],
   "source": [
    "n = int(input(\"Enter the number to print the multiplication table: \"))\n",
    "for i in range(1, 11):  # Loop from 1 to 10\n",
    "    print(f\"{n} x {i} = {n * i}\")"
   ]
  },
  {
   "cell_type": "markdown",
   "id": "3e999f0e-b97f-4307-9f4f-11798153138f",
   "metadata": {},
   "source": [
    "### 6. Write a loop to find the factorial of a given number n."
   ]
  },
  {
   "cell_type": "code",
   "execution_count": 6,
   "id": "0ec2ee37-a332-4ce0-b9f9-6039254031a3",
   "metadata": {},
   "outputs": [
    {
     "name": "stdin",
     "output_type": "stream",
     "text": [
      "Enter a number to find its factorial:  7\n"
     ]
    },
    {
     "name": "stdout",
     "output_type": "stream",
     "text": [
      "The factorial of 7 is 5040\n"
     ]
    }
   ],
   "source": [
    "n = int(input(\"Enter a number to find its factorial: \"))\n",
    "factorial = 1\n",
    "for i in range(1, n + 1):\n",
    "    factorial *= i  # Multiply the current value of factorial by i\n",
    "print(f\"The factorial of {n} is {factorial}\")"
   ]
  },
  {
   "cell_type": "markdown",
   "id": "45828452-4890-422d-abc6-fc7f27e1b10d",
   "metadata": {},
   "source": [
    "### 7. Write a loop to reverse a given string without using slicing."
   ]
  },
  {
   "cell_type": "code",
   "execution_count": 10,
   "id": "13b839e6-e067-4eef-abc5-694ee757c0b5",
   "metadata": {},
   "outputs": [
    {
     "name": "stdin",
     "output_type": "stream",
     "text": [
      "Enter a string to reverse:  -2\n"
     ]
    },
    {
     "name": "stdout",
     "output_type": "stream",
     "text": [
      "The reversed string is: 2-\n"
     ]
    }
   ],
   "source": [
    "string = input(\"Enter a string to reverse: \")\n",
    "reversed_string = \"\"\n",
    "for i in range(len(string) - 1, -1, -1):  # Start from the last character, go to the first\n",
    "    reversed_string += string[i]  # Add each character to the reversed string\n",
    "print(f\"The reversed string is: {reversed_string}\")"
   ]
  },
  {
   "cell_type": "markdown",
   "id": "58ae98e0-2eab-48da-82ef-b9e73aad4dd3",
   "metadata": {},
   "source": [
    "### 8. Write a loop to count the number of digits in a given number."
   ]
  },
  {
   "cell_type": "code",
   "execution_count": 11,
   "id": "4cdad58d-ea78-4e66-b7ee-cb6784c46e8c",
   "metadata": {},
   "outputs": [
    {
     "name": "stdin",
     "output_type": "stream",
     "text": [
      "Enter a number:  8\n"
     ]
    },
    {
     "name": "stdout",
     "output_type": "stream",
     "text": [
      "The number of digits is: 1\n"
     ]
    }
   ],
   "source": [
    "number = int(input(\"Enter a number: \"))\n",
    "count = 0\n",
    "if number == 0:\n",
    "    count = 1\n",
    "else:\n",
    "    while number != 0:\n",
    "        number //= 10  \n",
    "        count += 1 \n",
    "print(f\"The number of digits is: {count}\")"
   ]
  },
  {
   "cell_type": "markdown",
   "id": "5e1ca010-096f-4d83-8cc1-44afb9068343",
   "metadata": {},
   "source": [
    "### 9. Write a loop that prints Fibonacci numbers up to n terms."
   ]
  },
  {
   "cell_type": "code",
   "execution_count": 12,
   "id": "34b464e0-7c9e-4786-b8bf-e60919b49d16",
   "metadata": {},
   "outputs": [
    {
     "name": "stdin",
     "output_type": "stream",
     "text": [
      "Enter the number of terms in the Fibonacci sequence:  5\n"
     ]
    },
    {
     "name": "stdout",
     "output_type": "stream",
     "text": [
      "0 1 1 2 3 "
     ]
    }
   ],
   "source": [
    "n = int(input(\"Enter the number of terms in the Fibonacci sequence: \"))\n",
    "a, b = 0, 1\n",
    "for _ in range(n):\n",
    "    print(a, end=\" \")  \n",
    "    a, b = b, a + b "
   ]
  },
  {
   "cell_type": "markdown",
   "id": "dfedb306-a147-4116-876a-3b7a18fdaa02",
   "metadata": {},
   "source": [
    "### 10. Write a loop to find the sum of all digits in a given number."
   ]
  },
  {
   "cell_type": "code",
   "execution_count": 13,
   "id": "bdc02a73-a082-4fed-8ad4-4f766f29b44b",
   "metadata": {},
   "outputs": [
    {
     "name": "stdin",
     "output_type": "stream",
     "text": [
      "Enter a number:  7\n"
     ]
    },
    {
     "name": "stdout",
     "output_type": "stream",
     "text": [
      "The sum of the digits is: 7\n"
     ]
    }
   ],
   "source": [
    "number = int(input(\"Enter a number: \"))\n",
    "digit_sum = 0\n",
    "while number > 0:\n",
    "    digit_sum += number % 10  \n",
    "    number //= 10  \n",
    "print(f\"The sum of the digits is: {digit_sum}\")"
   ]
  },
  {
   "cell_type": "markdown",
   "id": "5b227950-590c-4b7d-ac59-0f5226275098",
   "metadata": {},
   "source": [
    "### 11. Write a nested loop to print the following pattern for n = 5:\n",
    "### *\n",
    "### **\n",
    "### ***\n",
    "### ****\n",
    "### *****"
   ]
  },
  {
   "cell_type": "code",
   "execution_count": 14,
   "id": "cf0ec526-0e1a-4efd-9c88-eaf5f0a59689",
   "metadata": {},
   "outputs": [
    {
     "name": "stdout",
     "output_type": "stream",
     "text": [
      "*\n",
      "**\n",
      "***\n",
      "****\n",
      "*****\n"
     ]
    }
   ],
   "source": [
    "n = 5\n",
    "for i in range(1, n + 1):\n",
    "    for j in range(i):\n",
    "        print(\"*\", end=\"\")  \n",
    "    print() "
   ]
  },
  {
   "cell_type": "markdown",
   "id": "76fb68d3-6cd0-477e-917a-8759742d06fa",
   "metadata": {},
   "source": [
    "### 12. Write a loop to find and print all prime numbers between 1 and 100."
   ]
  },
  {
   "cell_type": "code",
   "execution_count": 15,
   "id": "2b3ef7a4-3df4-42f8-a126-d26f32751dfd",
   "metadata": {},
   "outputs": [
    {
     "name": "stdout",
     "output_type": "stream",
     "text": [
      "2\n",
      "3\n",
      "5\n",
      "7\n",
      "11\n",
      "13\n",
      "17\n",
      "19\n",
      "23\n",
      "29\n",
      "31\n",
      "37\n",
      "41\n",
      "43\n",
      "47\n",
      "53\n",
      "59\n",
      "61\n",
      "67\n",
      "71\n",
      "73\n",
      "79\n",
      "83\n",
      "89\n",
      "97\n"
     ]
    }
   ],
   "source": [
    "for num in range(2, 101):  \n",
    "    is_prime = True  \n",
    "    for i in range(2, int(num**0.5) + 1):\n",
    "        if num % i == 0:  \n",
    "            is_prime = False\n",
    "            break  \n",
    "    if is_prime:\n",
    "        print(num)"
   ]
  }
 ],
 "metadata": {
  "kernelspec": {
   "display_name": "Python 3 (ipykernel)",
   "language": "python",
   "name": "python3"
  },
  "language_info": {
   "codemirror_mode": {
    "name": "ipython",
    "version": 3
   },
   "file_extension": ".py",
   "mimetype": "text/x-python",
   "name": "python",
   "nbconvert_exporter": "python",
   "pygments_lexer": "ipython3",
   "version": "3.12.7"
  }
 },
 "nbformat": 4,
 "nbformat_minor": 5
}
