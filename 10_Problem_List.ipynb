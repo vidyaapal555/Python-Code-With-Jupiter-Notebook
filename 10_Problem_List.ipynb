{
 "cells": [
  {
   "cell_type": "markdown",
   "id": "5707b7cc-00ff-4fa5-a787-720e79ed5c41",
   "metadata": {},
   "source": [
    "### Python List Practice Questions"
   ]
  },
  {
   "cell_type": "markdown",
   "id": "69e445a1-7902-4bcb-a8e0-0fd83724d6c1",
   "metadata": {},
   "source": [
    "### 1 Create a List and Print It\n",
    "Write a Python program to create a list of five different fruits and print the list."
   ]
  },
  {
   "cell_type": "code",
   "execution_count": 1,
   "id": "4f59f1ec-5519-493d-bb43-88fb0b1e28ee",
   "metadata": {},
   "outputs": [
    {
     "name": "stdout",
     "output_type": "stream",
     "text": [
      "['Apple', 'Banana', 'Cherry', 'Mango', 'Orange']\n"
     ]
    }
   ],
   "source": [
    "fruits = [\"Apple\", \"Banana\", \"Cherry\", \"Mango\", \"Orange\"]\n",
    "print(fruits)"
   ]
  },
  {
   "cell_type": "markdown",
   "id": "4e698fc0-d915-40f4-b17c-de674997e5bf",
   "metadata": {},
   "source": [
    "### 2 Accessing List Elements\n",
    "Given the list:\n",
    "\n",
    "numbers = [10, 20, 30, 40, 50]\n",
    "\n",
    "Print the first and last elements of the list."
   ]
  },
  {
   "cell_type": "code",
   "execution_count": 2,
   "id": "9b83b7ea-16e9-40bc-93a4-5796785779f7",
   "metadata": {},
   "outputs": [
    {
     "name": "stdout",
     "output_type": "stream",
     "text": [
      "10 50\n"
     ]
    }
   ],
   "source": [
    "numbers = [10, 20, 30, 40, 50]\n",
    "print(numbers[0],numbers[-1])"
   ]
  },
  {
   "cell_type": "markdown",
   "id": "0f4de237-a662-4969-b57c-8ff356c91d45",
   "metadata": {},
   "source": [
    "### 3 List Slicing\n",
    "Given the list:\n",
    "\n",
    "colors = [\"red\", \"green\", \"blue\", \"yellow\", \"purple\", \"orange\"]\n",
    "\n",
    "Extract and print the first three elements using slicing."
   ]
  },
  {
   "cell_type": "code",
   "execution_count": 3,
   "id": "89d7dc5b-c01a-45ef-9d87-f952257a200e",
   "metadata": {},
   "outputs": [
    {
     "name": "stdout",
     "output_type": "stream",
     "text": [
      "['red', 'green', 'blue']\n"
     ]
    }
   ],
   "source": [
    "colors = [\"red\", \"green\", \"blue\", \"yellow\", \"purple\", \"orange\"]\n",
    "print(colors[0:3])"
   ]
  },
  {
   "cell_type": "markdown",
   "id": "dfd33971-64a8-4ff4-970d-65421df501a0",
   "metadata": {},
   "source": [
    "### 4 Modify a List\n",
    "Create a list of three programming languages.\n",
    "\n",
    "Change the second element to \"JavaScript\".\n",
    "\n",
    "Print the modified list."
   ]
  },
  {
   "cell_type": "code",
   "execution_count": 4,
   "id": "1842eb22-c46e-4958-bed3-09514a64caad",
   "metadata": {},
   "outputs": [
    {
     "name": "stdout",
     "output_type": "stream",
     "text": [
      "['c++', 'javascript', 'python']\n"
     ]
    }
   ],
   "source": [
    "programming_language_list = [\"c++\",\"c#\",\"python\"]\n",
    "programming_language_list[1] = \"javascript\"\n",
    "print(programming_language_list)"
   ]
  },
  {
   "cell_type": "markdown",
   "id": "6dcb513e-3662-466a-ae41-09ea6300bbd8",
   "metadata": {},
   "source": [
    "### 5 Add and Remove Elements\n",
    "Create an empty list.\n",
    "\n",
    "Append the numbers 1, 2, and 3 to the list.\n",
    "\n",
    "Remove the second element.\n",
    "\n",
    "Print the final list."
   ]
  },
  {
   "cell_type": "code",
   "execution_count": 5,
   "id": "1a17db76-b554-4013-a6bd-2060b151f40e",
   "metadata": {},
   "outputs": [
    {
     "name": "stdout",
     "output_type": "stream",
     "text": [
      "[1, 3]\n"
     ]
    }
   ],
   "source": [
    "curr_list = []\n",
    "for i in range(3):\n",
    "    curr_list.append(i+1)\n",
    "\n",
    "curr_list.remove(2)\n",
    "print(curr_list)"
   ]
  },
  {
   "cell_type": "markdown",
   "id": "5e1e237d-626e-4bb9-b6cc-d5f4b082de2a",
   "metadata": {},
   "source": [
    "### 6 Find the Sum of List Elements\n",
    "Write a Python program to find the sum of all elements in the following list:\n",
    "\n",
    "numbers = [4, 7, 1, 8, 3]"
   ]
  },
  {
   "cell_type": "code",
   "execution_count": 6,
   "id": "558aea09-a144-49fc-a7a6-3ce99d92b329",
   "metadata": {},
   "outputs": [
    {
     "name": "stdout",
     "output_type": "stream",
     "text": [
      "23\n"
     ]
    }
   ],
   "source": [
    "numbers = [4, 7, 1, 8, 3]\n",
    "def get_sum_list(input):\n",
    "    sum = 0\n",
    "    for i in range(len(input)):\n",
    "        sum +=input[i]\n",
    "    return sum\n",
    "print(get_sum_list(numbers))"
   ]
  },
  {
   "cell_type": "markdown",
   "id": "61b2b182-0f37-47ad-843f-c0decf100fb6",
   "metadata": {},
   "source": [
    "### 7 Find the Maximum and Minimum\n",
    "Write a program to find the maximum and minimum values in this list:\n",
    "\n",
    "values = [23, 67, 12, 89, 34, 50]"
   ]
  },
  {
   "cell_type": "code",
   "execution_count": 7,
   "id": "1f0d818b-544d-41fd-bfe4-cefe0e72464b",
   "metadata": {},
   "outputs": [
    {
     "name": "stdout",
     "output_type": "stream",
     "text": [
      "89\n",
      "12\n"
     ]
    }
   ],
   "source": [
    "values = [23, 67, 12, 89, 34, 50]\n",
    "def find_max_list(input):\n",
    "    max = 0\n",
    "    for i in range(len(input)):\n",
    "        if max<input[i]:\n",
    "            max = input[i]\n",
    "    return max\n",
    "def find_min_list(input):\n",
    "    min = input[0]\n",
    "    for i in range(len(input)):\n",
    "        if min>input[i]:\n",
    "            min = input[i]\n",
    "    return min\n",
    "print(find_max_list(values))\n",
    "print(find_min_list(values))"
   ]
  },
  {
   "cell_type": "markdown",
   "id": "ae596b36-21aa-4ee9-85c2-398e842d2ec0",
   "metadata": {},
   "source": [
    "### 8 Check if an Element Exists\n",
    "Write a Python program that checks if \"apple\" exists in the following list and prints \"Found\" if it exists or \"Not Found\" otherwise.\n",
    "\n",
    "fruits = [\"banana\", \"orange\", \"grapes\", \"apple\", \"mango\"]"
   ]
  },
  {
   "cell_type": "code",
   "execution_count": 8,
   "id": "f7ae6407-7a4a-4908-8d3b-1d5888fcf676",
   "metadata": {},
   "outputs": [
    {
     "name": "stdout",
     "output_type": "stream",
     "text": [
      "it exits\n"
     ]
    }
   ],
   "source": [
    "fruits = [\"banana\", \"orange\", \"grapes\", \"apple\", \"mango\"]\n",
    "if \"apple\" in fruits:\n",
    "    print(\"it exits\")\n",
    "else:\n",
    "    print(\"not found\")"
   ]
  },
  {
   "cell_type": "markdown",
   "id": "c108027d-65d2-4914-a5f9-da8fcd0e7c26",
   "metadata": {},
   "source": [
    "### 9 Reverse a List\n",
    "Given the list:\n",
    "\n",
    "names = [\"Alice\", \"Bob\", \"Charlie\", \"David\"]\n",
    "\n",
    "Reverse the list and print it."
   ]
  },
  {
   "cell_type": "code",
   "execution_count": 9,
   "id": "6d615161-c5d0-466a-9b56-2899e5a1f632",
   "metadata": {},
   "outputs": [
    {
     "name": "stdout",
     "output_type": "stream",
     "text": [
      "['David', 'Charlie', 'Bob', 'Alice']\n"
     ]
    }
   ],
   "source": [
    "names = [\"Alice\", \"Bob\", \"Charlie\", \"David\"]\n",
    "# Reverse the list and print it.\n",
    "def reverse_list(input):\n",
    "    return input[::-1]\n",
    "print(reverse_list(names))"
   ]
  },
  {
   "cell_type": "markdown",
   "id": "868d977b-1155-4f2b-ac9e-d346bef097d4",
   "metadata": {},
   "source": [
    "### 10 List Comprehension\n",
    "Use list comprehension to generate a list of squares for numbers from 1 to 10.\n",
    "\n",
    "squares = # Your code here\n",
    "\n",
    "print(squares)"
   ]
  },
  {
   "cell_type": "code",
   "execution_count": 10,
   "id": "7816f67f-f922-40b1-a09b-2c2d800538b7",
   "metadata": {},
   "outputs": [
    {
     "name": "stdout",
     "output_type": "stream",
     "text": [
      "[1, 4, 9, 16, 25, 36, 49, 64, 81, 100]\n"
     ]
    }
   ],
   "source": [
    "squares = [item**2 for item in range(1,11) ]\n",
    "print(squares)"
   ]
  }
 ],
 "metadata": {
  "kernelspec": {
   "display_name": "Python 3 (ipykernel)",
   "language": "python",
   "name": "python3"
  },
  "language_info": {
   "codemirror_mode": {
    "name": "ipython",
    "version": 3
   },
   "file_extension": ".py",
   "mimetype": "text/x-python",
   "name": "python",
   "nbconvert_exporter": "python",
   "pygments_lexer": "ipython3",
   "version": "3.12.7"
  }
 },
 "nbformat": 4,
 "nbformat_minor": 5
}
