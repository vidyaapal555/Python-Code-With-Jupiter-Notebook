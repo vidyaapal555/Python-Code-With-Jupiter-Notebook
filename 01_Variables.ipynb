{
 "cells": [
  {
   "cell_type": "markdown",
   "id": "30d65cf2-ee49-4986-b974-98ab9a57d9ec",
   "metadata": {},
   "source": [
    "### Variables in python"
   ]
  },
  {
   "cell_type": "markdown",
   "id": "4cbf5e06-b8ac-4528-ae8d-e4b4963d4823",
   "metadata": {},
   "source": [
    "### Primitive Variables"
   ]
  },
  {
   "cell_type": "code",
   "execution_count": 1,
   "id": "9d65c5c6-8c37-4271-a1d7-e006a7c7e53f",
   "metadata": {},
   "outputs": [
    {
     "name": "stdout",
     "output_type": "stream",
     "text": [
      "[1, 2, 3, 4, 5]\n"
     ]
    }
   ],
   "source": [
    "var1 = \"this is a string\" #string\n",
    "var2 = 12 #number\n",
    "var3 = True #boolean\n",
    "var4 = None #This is act as a placeholder if you want to put this anywhere before any variable comes in\n",
    "list=[1,2,3,4,5]\n",
    "print(list)"
   ]
  },
  {
   "cell_type": "markdown",
   "id": "eaad9898-5d81-44d9-af25-ff77a8962ed7",
   "metadata": {},
   "source": [
    "### sequenced variables"
   ]
  },
  {
   "cell_type": "code",
   "execution_count": 4,
   "id": "03a6c0d4-1830-414d-b8fd-e6868917bee1",
   "metadata": {},
   "outputs": [
    {
     "name": "stdout",
     "output_type": "stream",
     "text": [
      "0\n",
      "2\n",
      "4\n",
      "6\n",
      "8\n"
     ]
    }
   ],
   "source": [
    "var5 = [\"place\", 12, True] #List\n",
    "var6 = {\"name\":\"t-rex\",\"age\":10000} #dictionary\n",
    "var7 = {1,2,3,4,5} #set\n",
    "var8 = range(0,10,2)\n",
    "for i in var8:\n",
    "    print(i)"
   ]
  },
  {
   "cell_type": "markdown",
   "id": "f426d499-9483-420e-a8eb-be671fcb5385",
   "metadata": {},
   "source": [
    "### Naming convention"
   ]
  },
  {
   "cell_type": "code",
   "execution_count": 5,
   "id": "368e57a7-30bf-43e4-95fd-7535785437bd",
   "metadata": {},
   "outputs": [
    {
     "name": "stdout",
     "output_type": "stream",
     "text": [
      "Alice is 25 years old\n",
      "Person('Alice', 25)\n",
      "Alice is 25 years old\n"
     ]
    }
   ],
   "source": [
    "# variables(snake_case) \n",
    "first_name = \"vidyaa\"\n",
    "\n",
    "# Class name(PascalCase)\n",
    "class DoStuff:\n",
    "    pass\n",
    "\n",
    "# constants\n",
    "USER_LIST = [\"tim\", \"jake\",\"mishashi\"]\n",
    "\n",
    "# magic methods or special methods in python syntax used to defined how object of class will behave with built in method\n",
    "\n",
    "class Person:\n",
    "    def __init__(self, name, age):\n",
    "        self.name = name\n",
    "        self.age = age\n",
    "\n",
    "    def __str__(self):\n",
    "        return f\"{self.name} is {self.age} years old\"\n",
    "\n",
    "    def __repr__(self):\n",
    "        return f\"Person('{self.name}', {self.age})\"\n",
    "\n",
    "p = Person(\"Alice\", 25)\n",
    "print(str(p))\n",
    "class Person:\n",
    "    def __init__(self, name, age):\n",
    "        self.name = name\n",
    "        self.age = age\n",
    "\n",
    "    def __str__(self):\n",
    "        return f\"{self.name} is {self.age} years old\"\n",
    "\n",
    "    def __repr__(self):\n",
    "        return f\"Person('{self.name}', {self.age})\"\n",
    "\n",
    "p = Person(\"Alice\", 25)\n",
    "print(repr(p))\n",
    "print(p)"
   ]
  },
  {
   "cell_type": "markdown",
   "id": "f6ab5b22-175c-4e18-82d9-3ada74c73d6b",
   "metadata": {},
   "source": [
    "### Scope of variable"
   ]
  },
  {
   "cell_type": "code",
   "execution_count": 6,
   "id": "836c47f1-4e57-497f-be86-299833388d79",
   "metadata": {},
   "outputs": [
    {
     "name": "stdout",
     "output_type": "stream",
     "text": [
      "Thor will save the city\n"
     ]
    }
   ],
   "source": [
    "#Global scope\n",
    "hero = \"Iron Man\"\n",
    "def saveCity():\n",
    "    print(f\"{hero} will save the city\")\n",
    "# saveCity()\n",
    "\n",
    "#Block Scope\n",
    "def saveCity2():\n",
    "    hero = \"Thor\"\n",
    "    print(f\"{hero} will save the city\")\n",
    "\n",
    "saveCity2()\n",
    "# we can use global keyword in order to declare the variable inside a block global"
   ]
  },
  {
   "cell_type": "markdown",
   "id": "3f05a75c-a926-458e-98b4-f586d4159a7e",
   "metadata": {},
   "source": [
    "### 1. Explain the global keyword in Python. When would you use it?"
   ]
  },
  {
   "cell_type": "code",
   "execution_count": 7,
   "id": "7529961e-ebe1-48e6-b1b9-b4d77223fb51",
   "metadata": {},
   "outputs": [
    {
     "name": "stdout",
     "output_type": "stream",
     "text": [
      "thor will save the city\n"
     ]
    }
   ],
   "source": [
    "hero = \"Iron Man\"\n",
    "\n",
    "def saveCity3():\n",
    "    global hero\n",
    "    hero = \"thor\"\n",
    "    \n",
    "saveCity3()\n",
    "print(f\"{hero} will save the city\")"
   ]
  },
  {
   "cell_type": "code",
   "execution_count": 8,
   "id": "84c985d0-3890-473a-ad6f-b00ac7d9e0b3",
   "metadata": {},
   "outputs": [
    {
     "name": "stdout",
     "output_type": "stream",
     "text": [
      "20\n",
      "10\n"
     ]
    }
   ],
   "source": [
    "x = 10\n",
    "\n",
    "def my_function():\n",
    "    x = 20\n",
    "    print(x)\n",
    "my_function()\n",
    "print(x)"
   ]
  },
  {
   "cell_type": "code",
   "execution_count": 9,
   "id": "a3cd8637-98de-476f-9e3f-89f488e899c0",
   "metadata": {},
   "outputs": [
    {
     "name": "stdout",
     "output_type": "stream",
     "text": [
      "6\n"
     ]
    }
   ],
   "source": [
    "count = 5\n",
    "\n",
    "def increment():\n",
    "    global count\n",
    "    count += 1\n",
    "increment()\n",
    "print(count)"
   ]
  },
  {
   "cell_type": "code",
   "execution_count": 10,
   "id": "466e0843-b225-403d-b608-fb20dd7be150",
   "metadata": {},
   "outputs": [
    {
     "name": "stdout",
     "output_type": "stream",
     "text": [
      "10\n"
     ]
    }
   ],
   "source": [
    "total = 0\n",
    "def calculate():\n",
    "    global total\n",
    "    total += 10 \n",
    "    print(total)\n",
    "\n",
    "total = 0\n",
    "calculate()"
   ]
  },
  {
   "cell_type": "code",
   "execution_count": 11,
   "id": "0941e3b9-70ad-4bf9-9e8c-238bed941e75",
   "metadata": {},
   "outputs": [
    {
     "name": "stdout",
     "output_type": "stream",
     "text": [
      "100\n"
     ]
    }
   ],
   "source": [
    "def update_balance(amount):\n",
    "    update_balance = balance + amount\n",
    "\n",
    "balance = 100\n",
    "update_balance(50)\n",
    "print(balance)"
   ]
  },
  {
   "cell_type": "markdown",
   "id": "85d26633-c65f-43ee-91b5-23bca0976bd1",
   "metadata": {},
   "source": [
    "### 2. What is the difference between local and global variables in Python?"
   ]
  },
  {
   "cell_type": "markdown",
   "id": "3b58e545-c7a8-408d-818f-da6bfc37b15b",
   "metadata": {},
   "source": [
    "We can access global scope variable anywhere in our program but block scope variable is only accessed in that perticular block of code for example function body"
   ]
  },
  {
   "cell_type": "markdown",
   "id": "814c3f72-528d-4b97-a411-9297e4e6f6fe",
   "metadata": {},
   "source": [
    "### 3. What will happen if a local variable has the same name as a global variable?"
   ]
  },
  {
   "cell_type": "markdown",
   "id": "fae708ee-f4d6-4700-bfdc-e39fd040b651",
   "metadata": {},
   "source": [
    "When a local variable has the same name as a global variable, the local variable shadows the global variable within the scope of the function or block where it is defined. this means that inside that scope, the local variable will be used instead of the global one."
   ]
  },
  {
   "cell_type": "code",
   "execution_count": 12,
   "id": "ed85c770-da69-40b1-875e-9d5c5e186169",
   "metadata": {},
   "outputs": [
    {
     "name": "stdout",
     "output_type": "stream",
     "text": [
      "5\n",
      "10\n"
     ]
    }
   ],
   "source": [
    "x = 10  # Global variable\n",
    "def test():\n",
    "    x = 5  # Local variable, shadows the global 'x'\n",
    "    print(x)  # Will print the local 'x', which is 5\n",
    "\n",
    "test()\n",
    "print(x)  # Will print the global 'x', which is 10"
   ]
  }
 ],
 "metadata": {
  "kernelspec": {
   "display_name": "Python 3 (ipykernel)",
   "language": "python",
   "name": "python3"
  },
  "language_info": {
   "codemirror_mode": {
    "name": "ipython",
    "version": 3
   },
   "file_extension": ".py",
   "mimetype": "text/x-python",
   "name": "python",
   "nbconvert_exporter": "python",
   "pygments_lexer": "ipython3",
   "version": "3.12.7"
  }
 },
 "nbformat": 4,
 "nbformat_minor": 5
}
