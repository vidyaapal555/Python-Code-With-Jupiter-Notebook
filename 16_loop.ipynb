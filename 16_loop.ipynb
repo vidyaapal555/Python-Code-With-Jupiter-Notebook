{
 "cells": [
  {
   "cell_type": "markdown",
   "id": "b6e45689-b612-4687-ab53-b54407b5ba6a",
   "metadata": {},
   "source": [
    "### Loops"
   ]
  },
  {
   "cell_type": "markdown",
   "id": "cac383c8-997e-4e72-b87a-b9f80832ae87",
   "metadata": {},
   "source": [
    "### Iterate over sequenced variables"
   ]
  },
  {
   "cell_type": "code",
   "execution_count": 1,
   "id": "381afc4a-e883-4fe6-9df7-f82947826503",
   "metadata": {},
   "outputs": [
    {
     "name": "stdout",
     "output_type": "stream",
     "text": [
      "1 X 2 : 2\n",
      "2 X 2 : 4\n",
      "3 X 2 : 6\n",
      "4 X 2 : 8\n",
      "5 X 2 : 10\n",
      "6 X 2 : 12\n",
      "7 X 2 : 14\n",
      "8 X 2 : 16\n",
      "9 X 2 : 18\n",
      "10 X 2 : 20\n"
     ]
    }
   ],
   "source": [
    "name = \"abhishek\"\n",
    "# for i in name:\n",
    "#     print(i, end = \",\")\n",
    "\n",
    "#tup1 = (\"january\",\"february\",\"march\",\"may\")\n",
    "#for i in tup1:\n",
    "#    print(i,end=\" \")\n",
    "    \n",
    "#using loop to print table of 2\n",
    "for i in range(1,11):\n",
    "  print(f\"{i} X {2} : {i*2}\")"
   ]
  },
  {
   "cell_type": "markdown",
   "id": "abfa3c18-7696-450d-84ad-ff3f19ee64c7",
   "metadata": {},
   "source": [
    "### Iterate using range"
   ]
  },
  {
   "cell_type": "code",
   "execution_count": 2,
   "id": "a255b701-f484-4631-8e08-08bef8626245",
   "metadata": {},
   "outputs": [
    {
     "name": "stdout",
     "output_type": "stream",
     "text": [
      "1 3 5 7 9 "
     ]
    }
   ],
   "source": [
    "# for i in range(10):\n",
    "#     print(i, end=\" \")\n",
    "for i in range(1,10,2):\n",
    "    print(i , end = \" \")"
   ]
  },
  {
   "cell_type": "markdown",
   "id": "b842212c-b6b7-4d64-9506-88012dd22cb0",
   "metadata": {},
   "source": [
    "### while loop"
   ]
  },
  {
   "cell_type": "code",
   "execution_count": 3,
   "id": "bd02af85-a4da-4404-a306-5a4da67ca388",
   "metadata": {},
   "outputs": [
    {
     "name": "stdout",
     "output_type": "stream",
     "text": [
      "5\n",
      "4\n",
      "3\n",
      "2\n",
      "1\n",
      "counter is 0\n"
     ]
    }
   ],
   "source": [
    "count = 5\n",
    "while(count>0):\n",
    "    print(count)\n",
    "    count = count-1 \n",
    "else:\n",
    "    print(\"counter is 0\")"
   ]
  },
  {
   "cell_type": "markdown",
   "id": "c1ed944e-3aa0-40d6-a9d5-52a9feb409a2",
   "metadata": {},
   "source": [
    "### nested loop"
   ]
  },
  {
   "cell_type": "code",
   "execution_count": 4,
   "id": "30ab0bbc-4fde-498e-8761-13a309ba38e9",
   "metadata": {},
   "outputs": [
    {
     "name": "stdout",
     "output_type": "stream",
     "text": [
      "1 X 1 :1\n",
      "1 X 2 :2\n",
      "1 X 3 :3\n",
      "2 X 1 :2\n",
      "2 X 2 :4\n",
      "2 X 3 :6\n",
      "3 X 1 :3\n",
      "3 X 2 :6\n",
      "3 X 3 :9\n"
     ]
    }
   ],
   "source": [
    "for i in range(1,4):\n",
    "    for j in range(1,4):\n",
    "        print(f\"{i} X {j} :{i*j}\")"
   ]
  },
  {
   "cell_type": "markdown",
   "id": "7d2911a2-44fa-48d7-b9f1-659b2274fcfb",
   "metadata": {},
   "source": [
    "### Control flow statement"
   ]
  },
  {
   "cell_type": "code",
   "execution_count": 5,
   "id": "7cc9921b-6cbc-4f16-83a7-b93d475b151a",
   "metadata": {},
   "outputs": [
    {
     "name": "stdout",
     "output_type": "stream",
     "text": [
      "5\n",
      "6\n",
      "7\n",
      "8\n",
      "9\n",
      "1\n",
      "2\n",
      "3\n",
      "4\n",
      "5\n",
      "6\n",
      "7\n",
      "8\n",
      "9\n"
     ]
    }
   ],
   "source": [
    "# Using pass\n",
    "i = 10\n",
    "for i in range(10):\n",
    "    pass  # This loop does nothing, just a placeholder\n",
    "\n",
    "if i < 10:\n",
    "    pass  # Does nothing, can be used for future functionality\n",
    "\n",
    "def do_something():\n",
    "    pass  # Placeholder for a function\n",
    "\n",
    "# Using continue\n",
    "for i in range(10):\n",
    "    if i < 5:\n",
    "        continue  # Skip the rest of the loop for values of i less than 5\n",
    "    print(i)  # This will print values 5 to 9\n",
    "\n",
    "# Using break in a while loop\n",
    "count2 = 0\n",
    "while True:\n",
    "    count2 += 1  # Increment count2\n",
    "    if count2 == 10:\n",
    "        break  # Break out of the loop when count2 reaches 10\n",
    "    print(count2)  # Prints numbers from 1 to 9"
   ]
  }
 ],
 "metadata": {
  "kernelspec": {
   "display_name": "Python 3 (ipykernel)",
   "language": "python",
   "name": "python3"
  },
  "language_info": {
   "codemirror_mode": {
    "name": "ipython",
    "version": 3
   },
   "file_extension": ".py",
   "mimetype": "text/x-python",
   "name": "python",
   "nbconvert_exporter": "python",
   "pygments_lexer": "ipython3",
   "version": "3.12.7"
  }
 },
 "nbformat": 4,
 "nbformat_minor": 5
}
