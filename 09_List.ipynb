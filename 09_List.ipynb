{
 "cells": [
  {
   "cell_type": "markdown",
   "id": "a6cb938e-9341-47b5-8a54-228778feb6ca",
   "metadata": {},
   "source": [
    "### Basics of list"
   ]
  },
  {
   "cell_type": "code",
   "execution_count": 1,
   "id": "b8dc03e1-94e9-4375-aff9-098cf84abbf6",
   "metadata": {},
   "outputs": [
    {
     "name": "stdout",
     "output_type": "stream",
     "text": [
      "1\n",
      "[4, 3, 2, 1]\n",
      "True\n"
     ]
    }
   ],
   "source": [
    "list1 = [1,2,3,4]\n",
    "#accessing the string using array notation\n",
    "\n",
    "print(list1[0])\n",
    "print(list1[::-1])\n",
    "#same as of string slicing\n",
    "\n",
    "#cheking the item present in list using in operator\n",
    "print(1 in list1)"
   ]
  },
  {
   "cell_type": "markdown",
   "id": "37719213-dc37-4d60-b455-23641ea441ea",
   "metadata": {},
   "source": [
    "### List adding methods"
   ]
  },
  {
   "cell_type": "code",
   "execution_count": 2,
   "id": "e0480ca2-c529-43f3-8b89-1802481d4a92",
   "metadata": {},
   "outputs": [
    {
     "name": "stdout",
     "output_type": "stream",
     "text": [
      "['first', 'second', 'third', 100]\n"
     ]
    }
   ],
   "source": [
    "list2 = [\"first\",\"second\", \"third\"]\n",
    "#list2.append(\"fourth\")\n",
    "#list2.append(5)\n",
    "list2.insert(3,100)\n",
    "#arr1.extend([6,7,8,9])\n",
    "print(list2)"
   ]
  },
  {
   "cell_type": "markdown",
   "id": "19d6cd59-43b8-46a7-ac12-706e57e91005",
   "metadata": {},
   "source": [
    "### List Deleting methods"
   ]
  },
  {
   "cell_type": "code",
   "execution_count": 3,
   "id": "db91be6b-9f0e-40d2-a22b-92af945b24cc",
   "metadata": {},
   "outputs": [
    {
     "name": "stdout",
     "output_type": "stream",
     "text": [
      "[]\n"
     ]
    }
   ],
   "source": [
    "list3 = [1,2,3,4]\n",
    "#print(list3.pop())\n",
    "#print(list3.pop(0))\n",
    "list4 = [\"sugar\",\"milk\",\"berries\",\"donut\"]\n",
    "list4.remove(\"donut\")\n",
    "#print(list4)\n",
    "del list4[0]\n",
    "#print(list4)\n",
    "list4.clear()\n",
    "print(list4)"
   ]
  },
  {
   "cell_type": "markdown",
   "id": "f6f980c3-b1cc-4f2a-993e-e3e48eef8f9d",
   "metadata": {},
   "source": [
    "### Changing list Items"
   ]
  },
  {
   "cell_type": "code",
   "execution_count": 4,
   "id": "276874d8-76bb-46d7-9259-c056f2420d05",
   "metadata": {},
   "outputs": [
    {
     "name": "stdout",
     "output_type": "stream",
     "text": [
      "['newFirst', 'newSecond', 'fourth']\n"
     ]
    }
   ],
   "source": [
    "# We can use index to change the list items\n",
    "list5 = [\"first\",\"second\",\"third\",\"fourth\"]\n",
    "#list5[0] = \"newFirst\"\n",
    "#list5[0:2] = [\"newFirst\",\"newSecond\"]\n",
    "#list5[0:2] = [\"newFirst\",\"newSecond\",\"newThird\"]\n",
    "list5[0:3] = [\"newFirst\",\"newSecond\"]\n",
    "print(list5)"
   ]
  },
  {
   "cell_type": "markdown",
   "id": "0a38b336-dd44-4669-8f40-ad5706c96dbe",
   "metadata": {},
   "source": [
    "### List comprehension"
   ]
  },
  {
   "cell_type": "code",
   "execution_count": 5,
   "id": "468e952d-ddb9-457d-bdc5-78907ed30c75",
   "metadata": {},
   "outputs": [
    {
     "name": "stdout",
     "output_type": "stream",
     "text": [
      "['Sarah', 'Bruno', 'Anastasia']\n"
     ]
    }
   ],
   "source": [
    "# Creating list from other iterables like tuple, set, string or other list\n",
    "names = [\"Milo\", \"Sarah\", \"Bruno\", \"Anastasia\", \"Rosa\"]\n",
    "new_names_list = [item for item in names if len(item)>=5]\n",
    "print(new_names_list)"
   ]
  },
  {
   "cell_type": "markdown",
   "id": "71eba15b-5ac7-413e-9e9f-73b03cec98bd",
   "metadata": {},
   "source": [
    "### Usefull list methods"
   ]
  },
  {
   "cell_type": "code",
   "execution_count": 6,
   "id": "729f5856-3ba9-4a9a-bec4-26e4fcc1d719",
   "metadata": {},
   "outputs": [
    {
     "name": "stdout",
     "output_type": "stream",
     "text": [
      "[23, 10, 3, 1, 44, 10]\n"
     ]
    }
   ],
   "source": [
    "list6 = [23,10,3,1,44,10]\n",
    "# list6.sort()\n",
    "# list6.reverse()\n",
    "# print(list6.count(10))\n",
    "# print(list6.index(3))\n",
    "print(list6)\n",
    "list7 = list6.copy()"
   ]
  }
 ],
 "metadata": {
  "kernelspec": {
   "display_name": "Python 3 (ipykernel)",
   "language": "python",
   "name": "python3"
  },
  "language_info": {
   "codemirror_mode": {
    "name": "ipython",
    "version": 3
   },
   "file_extension": ".py",
   "mimetype": "text/x-python",
   "name": "python",
   "nbconvert_exporter": "python",
   "pygments_lexer": "ipython3",
   "version": "3.12.7"
  }
 },
 "nbformat": 4,
 "nbformat_minor": 5
}
