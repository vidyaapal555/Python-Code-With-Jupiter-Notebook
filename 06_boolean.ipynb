{
 "cells": [
  {
   "cell_type": "code",
   "execution_count": 12,
   "id": "e699354a-2bd7-48e8-838a-238f2e312678",
   "metadata": {},
   "outputs": [
    {
     "name": "stdout",
     "output_type": "stream",
     "text": [
      "False\n",
      "False\n",
      "False\n",
      "False\n",
      "False\n",
      "False\n",
      "False\n"
     ]
    }
   ],
   "source": [
    "#falsy values\n",
    "print(bool(None))\n",
    "print(bool(\"\"))\n",
    "print(bool(False))\n",
    "print(bool(0))\n",
    "print(bool([]))\n",
    "print(bool({}))\n",
    "print(bool(()))"
   ]
  },
  {
   "cell_type": "markdown",
   "id": "68156778-6475-435a-8207-8e74cdb4b978",
   "metadata": {},
   "source": [
    "### Question 1: Which of the following values will be evaluated as False by the bool() function?\n",
    "\"Hello\"\n",
    "\n",
    "0\n",
    "\n",
    "[]\n",
    "\n",
    "-1\n",
    "\n",
    "{}\n",
    "\n",
    "None"
   ]
  },
  {
   "cell_type": "code",
   "execution_count": 13,
   "id": "524e0f73-5ceb-4022-aded-322e49c056b2",
   "metadata": {},
   "outputs": [
    {
     "name": "stdout",
     "output_type": "stream",
     "text": [
      "True False False True False False\n"
     ]
    }
   ],
   "source": [
    "print(bool(\"Hello\"), bool(0), bool([]), bool(-1), bool({}), bool(None))"
   ]
  },
  {
   "cell_type": "markdown",
   "id": "ff41cc57-668e-4873-971c-a716dd675e61",
   "metadata": {},
   "source": [
    "### Question 2: Predict the output:"
   ]
  },
  {
   "cell_type": "code",
   "execution_count": 14,
   "id": "cc499ab8-f72f-4baa-b706-7488eb61134d",
   "metadata": {},
   "outputs": [
    {
     "name": "stdout",
     "output_type": "stream",
     "text": [
      "False\n",
      "False\n",
      "True\n",
      "False\n"
     ]
    }
   ],
   "source": [
    "print(bool([]))\n",
    "print(bool(0))\n",
    "print(bool(\"Python\"))\n",
    "print(bool(None))"
   ]
  },
  {
   "cell_type": "markdown",
   "id": "8a8b9eaf-1fe3-4f23-baed-0bf056caf3d0",
   "metadata": {},
   "source": [
    "### Question 3: Write a Python program that takes user input and checks if it's a falsy value."
   ]
  },
  {
   "cell_type": "code",
   "execution_count": 15,
   "id": "4d4e77ca-5a15-4928-a990-e5feab689312",
   "metadata": {},
   "outputs": [
    {
     "name": "stdout",
     "output_type": "stream",
     "text": [
      "False\n",
      "False\n"
     ]
    }
   ],
   "source": [
    "#Example 1\n",
    "def check_falsy(input):\n",
    "    return bool(input)\n",
    "\n",
    "print(check_falsy(0))\n",
    "\n",
    "#Example 2\n",
    "def check_falsy(input):\n",
    "    return bool(input)\n",
    "\n",
    "print(check_falsy({}))"
   ]
  },
  {
   "cell_type": "markdown",
   "id": "717349c9-aaf9-41f4-b7a6-827977abf6a0",
   "metadata": {},
   "source": [
    "### Question 4: Identify the falsy values in this list: [0,1,\"\",[],{1,2}]"
   ]
  },
  {
   "cell_type": "code",
   "execution_count": 16,
   "id": "d913a512-facf-4d5c-b750-2215a9ac9171",
   "metadata": {},
   "outputs": [
    {
     "name": "stdout",
     "output_type": "stream",
     "text": [
      "False\n",
      "True\n",
      "False\n",
      "True\n",
      "False\n",
      "True\n",
      "False\n",
      "False\n"
     ]
    }
   ],
   "source": [
    "my_list = [0, 1, \"\", \"Hello\", [], [1, 2, 3], None, False]\n",
    "for i in range(len(my_list)):\n",
    "    print(bool(my_list[i]))"
   ]
  },
  {
   "cell_type": "markdown",
   "id": "6b8b995e-7fbf-4909-a974-5668d5f1634d",
   "metadata": {},
   "source": [
    "### Question 5: Explain why the output of bool(0.0) is False but bool(0.00001) is True.\n",
    "All forms of zero, including 0, 0.0, 0j, and 00, evaluate to False. However, 0.00001 is a small value, but it is not zero, so it evaluates to True."
   ]
  },
  {
   "cell_type": "code",
   "execution_count": 17,
   "id": "43a1a7ac-fa45-4dc4-957d-88c9b74966c8",
   "metadata": {},
   "outputs": [
    {
     "name": "stdout",
     "output_type": "stream",
     "text": [
      "False\n",
      "True\n"
     ]
    }
   ],
   "source": [
    "print(bool(0.0))\n",
    "print(bool(0.00001))"
   ]
  },
  {
   "cell_type": "markdown",
   "id": "1573631b-8afb-478e-9e63-9d81d34c0939",
   "metadata": {},
   "source": [
    "### Question 6: Write a function that removes all falsy values from a list.\n",
    "Input: [0, 1, \"\", None, [], \"Python\", False, 10]\n",
    "\n",
    "Output: [1, \"Python\", 10]"
   ]
  },
  {
   "cell_type": "code",
   "execution_count": 18,
   "id": "b5fddc08-f8ae-49f9-a9c1-3aa41cf15445",
   "metadata": {},
   "outputs": [
    {
     "name": "stdout",
     "output_type": "stream",
     "text": [
      "[1, 'Python', 10]\n"
     ]
    }
   ],
   "source": [
    "def remove_falsy(input_list):\n",
    "    new_list = []\n",
    "    for i in range(len(input_list)):\n",
    "        if bool(input_list[i]):\n",
    "            new_list.append(input_list[i])\n",
    "    return new_list\n",
    "\n",
    "print(remove_falsy([0, 1, \"\", None, [], \"Python\", False, 10]))"
   ]
  },
  {
   "cell_type": "code",
   "execution_count": 19,
   "id": "d4ea1c31-d846-46a1-95dc-7e7e555b1905",
   "metadata": {},
   "outputs": [
    {
     "name": "stdout",
     "output_type": "stream",
     "text": [
      "[{12}, [1, 3], -1]\n",
      "[1, 'Python', 10]\n"
     ]
    }
   ],
   "source": [
    "def sort_nonfalsy_value(input_list):\n",
    "    truthy_list = []\n",
    "    for i in range(len(input_list)):\n",
    "        if(bool(input_list[i])):\n",
    "            truthy_list.append(input_list[i])\n",
    "    return truthy_list\n",
    "print(sort_nonfalsy_value([0,{12},[1,3],[],-1]))\n",
    "print(sort_nonfalsy_value([0, 1, \"\", None, [], \"Python\", False, 10]))"
   ]
  }
 ],
 "metadata": {
  "kernelspec": {
   "display_name": "Python 3 (ipykernel)",
   "language": "python",
   "name": "python3"
  },
  "language_info": {
   "codemirror_mode": {
    "name": "ipython",
    "version": 3
   },
   "file_extension": ".py",
   "mimetype": "text/x-python",
   "name": "python",
   "nbconvert_exporter": "python",
   "pygments_lexer": "ipython3",
   "version": "3.12.7"
  }
 },
 "nbformat": 4,
 "nbformat_minor": 5
}
